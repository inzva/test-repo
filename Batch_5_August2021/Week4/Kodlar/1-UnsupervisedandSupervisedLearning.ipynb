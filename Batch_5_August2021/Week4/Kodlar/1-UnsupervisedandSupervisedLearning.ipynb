{
 "cells": [
  {
   "cell_type": "markdown",
   "id": "e72e92b0",
   "metadata": {},
   "source": [
    "## Unsupervised Learning"
   ]
  },
  {
   "cell_type": "markdown",
   "id": "829e2646",
   "metadata": {},
   "source": [
    "### Clustering"
   ]
  },
  {
   "cell_type": "markdown",
   "id": "bed8c421",
   "metadata": {},
   "source": [
    "2 cluster (kümeleme) uygulamasına bakacağız.\n",
    "1. K-Means\n",
    "2. Hierarchical Clustering"
   ]
  },
  {
   "cell_type": "code",
   "execution_count": 1,
   "id": "5a6d533f",
   "metadata": {},
   "outputs": [],
   "source": [
    "from sklearn.datasets import load_wine\n",
    "from sklearn.preprocessing import StandardScaler\n",
    "from sklearn.cluster import KMeans, AgglomerativeClustering"
   ]
  },
  {
   "cell_type": "code",
   "execution_count": 2,
   "id": "e3aa11b4",
   "metadata": {},
   "outputs": [],
   "source": [
    "features, labels = load_wine(return_X_y=True)"
   ]
  },
  {
   "cell_type": "code",
   "execution_count": 3,
   "id": "5179ffb1",
   "metadata": {},
   "outputs": [],
   "source": [
    "scaler = StandardScaler()\n",
    "features = scaler.fit_transform(features)"
   ]
  },
  {
   "cell_type": "code",
   "execution_count": 4,
   "id": "79ad0745",
   "metadata": {},
   "outputs": [
    {
     "data": {
      "text/plain": [
       "(178, 13)"
      ]
     },
     "execution_count": 4,
     "metadata": {},
     "output_type": "execute_result"
    }
   ],
   "source": [
    "features.shape"
   ]
  },
  {
   "cell_type": "code",
   "execution_count": 5,
   "id": "f190b3b3",
   "metadata": {},
   "outputs": [],
   "source": [
    "N_CLUSTERS=3 # Tamamı büyük harflerden oluşan değişkenleri sabit kabul edebiliriz."
   ]
  },
  {
   "cell_type": "markdown",
   "id": "377f0d34",
   "metadata": {},
   "source": [
    "#### K-Means"
   ]
  },
  {
   "cell_type": "code",
   "execution_count": 6,
   "id": "64c8af4b",
   "metadata": {},
   "outputs": [],
   "source": [
    "kmeans = KMeans(n_clusters=N_CLUSTERS, verbose=1, random_state=0, algorithm=\"full\")"
   ]
  },
  {
   "cell_type": "code",
   "execution_count": 7,
   "id": "5b03d2da",
   "metadata": {},
   "outputs": [
    {
     "name": "stdout",
     "output_type": "stream",
     "text": [
      "Initialization complete\n",
      "Iteration 0, inertia 2203.5906463626743.\n",
      "Iteration 1, inertia 1296.070041191551.\n",
      "Iteration 2, inertia 1281.468896814162.\n",
      "Iteration 3, inertia 1279.9661527749458.\n",
      "Converged at iteration 3: strict convergence.\n",
      "Initialization complete\n",
      "Iteration 0, inertia 2076.581238366965.\n",
      "Iteration 1, inertia 1305.932779664509.\n",
      "Iteration 2, inertia 1283.44055575899.\n",
      "Iteration 3, inertia 1281.2533740452773.\n",
      "Iteration 4, inertia 1279.9661527749458.\n",
      "Converged at iteration 4: strict convergence.\n",
      "Initialization complete\n",
      "Iteration 0, inertia 2036.5816702725494.\n",
      "Iteration 1, inertia 1301.1872355176786.\n",
      "Iteration 2, inertia 1280.7643147492684.\n",
      "Iteration 3, inertia 1278.7607763668154.\n",
      "Converged at iteration 3: strict convergence.\n",
      "Initialization complete\n",
      "Iteration 0, inertia 2412.0934407425266.\n",
      "Iteration 1, inertia 1329.6802648124985.\n",
      "Iteration 2, inertia 1288.9238718358422.\n",
      "Iteration 3, inertia 1282.9280954797623.\n",
      "Iteration 4, inertia 1282.1344447838694.\n",
      "Iteration 5, inertia 1280.5674019798732.\n",
      "Iteration 6, inertia 1279.7311231046365.\n",
      "Converged at iteration 6: strict convergence.\n",
      "Initialization complete\n",
      "Iteration 0, inertia 2121.9298608558565.\n",
      "Iteration 1, inertia 1492.0764128685057.\n",
      "Iteration 2, inertia 1381.4282021727086.\n",
      "Iteration 3, inertia 1298.536904363743.\n",
      "Iteration 4, inertia 1284.6513005011298.\n",
      "Iteration 5, inertia 1281.6890722693036.\n",
      "Iteration 6, inertia 1280.0701451776235.\n",
      "Iteration 7, inertia 1279.7311231046365.\n",
      "Converged at iteration 7: strict convergence.\n",
      "Initialization complete\n",
      "Iteration 0, inertia 1918.579968153537.\n",
      "Iteration 1, inertia 1288.8829906352419.\n",
      "Iteration 2, inertia 1282.2238826052012.\n",
      "Iteration 3, inertia 1281.0183267988014.\n",
      "Iteration 4, inertia 1279.7311231046365.\n",
      "Converged at iteration 4: strict convergence.\n",
      "Initialization complete\n",
      "Iteration 0, inertia 1908.6279924717917.\n",
      "Iteration 1, inertia 1286.4361414585167.\n",
      "Iteration 2, inertia 1279.02160121728.\n",
      "Iteration 3, inertia 1278.7607763668154.\n",
      "Converged at iteration 3: strict convergence.\n",
      "Initialization complete\n",
      "Iteration 0, inertia 2228.0957335678822.\n",
      "Iteration 1, inertia 1351.7333070186442.\n",
      "Iteration 2, inertia 1291.9815105154487.\n",
      "Iteration 3, inertia 1284.3887844364042.\n",
      "Iteration 4, inertia 1282.4635183465314.\n",
      "Converged at iteration 4: strict convergence.\n",
      "Initialization complete\n",
      "Iteration 0, inertia 1877.9689152165395.\n",
      "Iteration 1, inertia 1306.200684777271.\n",
      "Iteration 2, inertia 1284.9829447017448.\n",
      "Iteration 3, inertia 1280.0165396021755.\n",
      "Iteration 4, inertia 1278.7607763668154.\n",
      "Converged at iteration 4: strict convergence.\n",
      "Initialization complete\n",
      "Iteration 0, inertia 1963.558798972716.\n",
      "Iteration 1, inertia 1333.4797424300482.\n",
      "Iteration 2, inertia 1291.6229657749234.\n",
      "Iteration 3, inertia 1285.3329206426195.\n",
      "Iteration 4, inertia 1282.9757146734742.\n",
      "Iteration 5, inertia 1282.4635183465314.\n",
      "Converged at iteration 5: strict convergence.\n"
     ]
    },
    {
     "data": {
      "text/plain": [
       "KMeans(algorithm='full', n_clusters=3, random_state=0, verbose=1)"
      ]
     },
     "execution_count": 7,
     "metadata": {},
     "output_type": "execute_result"
    }
   ],
   "source": [
    "kmeans.fit(features)"
   ]
  },
  {
   "cell_type": "code",
   "execution_count": 8,
   "id": "fb984120",
   "metadata": {},
   "outputs": [],
   "source": [
    "def print_ratio(samples, n_clusters=N_CLUSTERS):\n",
    "    \"\"\"\n",
    "    Kullandığımız kümeleme algoritmasının çıkardığı bir kümede bulunan sampleları ve toplam küme sayısını\n",
    "    verdiğimizde, o kümede bulunan tahmin dağılımını çıkaran bir fonksiyon.\n",
    "    \n",
    "    samples: Etiketi 'l' olan \n",
    "    \"\"\"\n",
    "    sample_len = len(samples) # Kümedeki eleman sayısı\n",
    "    \n",
    "    # Verilen kümenin elemanlarının tahmin dağılımını inceliyoruz.\n",
    "    sample_ratios = {i:(len(samples[samples==i]) / sample_len) for i in range(n_clusters)}\n",
    "    \n",
    "    for key, value in sample_ratios.items():\n",
    "        print(f\"Ratio of group {key}: {value:.2f}\")"
   ]
  },
  {
   "cell_type": "code",
   "execution_count": 9,
   "id": "fa43eb5e",
   "metadata": {},
   "outputs": [],
   "source": [
    "kmeans_preds = kmeans.predict(features)"
   ]
  },
  {
   "cell_type": "code",
   "execution_count": 10,
   "id": "1959b77d",
   "metadata": {},
   "outputs": [
    {
     "data": {
      "text/plain": [
       "array([0, 0, 0, 0, 0, 0, 0, 0, 0, 0, 0, 0, 0, 0, 0, 0, 0, 0, 0, 0, 0, 0,\n",
       "       0, 0, 0, 0, 0, 0, 0, 0, 0, 0, 0, 0, 0, 0, 0, 0, 0, 0, 0, 0, 0, 0,\n",
       "       0, 0, 0, 0, 0, 0, 0, 0, 0, 0, 0, 0, 0, 0, 0, 1, 1, 1, 1, 1, 1, 1,\n",
       "       1, 1, 1, 1, 1, 1, 1, 1, 1, 1, 1, 1, 1, 1, 1, 1, 1, 1, 1, 1, 1, 1,\n",
       "       1, 1, 1, 1, 1, 1, 1, 1, 1, 1, 1, 1, 1, 1, 1, 1, 1, 1, 1, 1, 1, 1,\n",
       "       1, 1, 1, 1, 1, 1, 1, 1, 1, 1, 1, 1, 1, 1, 1, 1, 1, 1, 1, 1, 2, 2,\n",
       "       2, 2, 2, 2, 2, 2, 2, 2, 2, 2, 2, 2, 2, 2, 2, 2, 2, 2, 2, 2, 2, 2,\n",
       "       2, 2, 2, 2, 2, 2, 2, 2, 2, 2, 2, 2, 2, 2, 2, 2, 2, 2, 2, 2, 2, 2,\n",
       "       2, 2])"
      ]
     },
     "execution_count": 10,
     "metadata": {},
     "output_type": "execute_result"
    }
   ],
   "source": [
    "labels # Gerçek etiketler"
   ]
  },
  {
   "cell_type": "code",
   "execution_count": 11,
   "id": "1dd1cf36",
   "metadata": {},
   "outputs": [
    {
     "data": {
      "text/plain": [
       "array([2, 2, 2, 2, 2, 2, 2, 2, 2, 2, 2, 2, 2, 2, 2, 2, 2, 2, 2, 2, 2, 2,\n",
       "       2, 2, 2, 2, 2, 2, 2, 2, 2, 2, 2, 2, 2, 2, 2, 2, 2, 2, 2, 2, 2, 2,\n",
       "       2, 2, 2, 2, 2, 2, 2, 2, 2, 2, 2, 2, 2, 2, 2, 1, 1, 0, 1, 1, 1, 1,\n",
       "       1, 1, 1, 1, 1, 1, 1, 2, 1, 1, 1, 1, 1, 1, 1, 1, 1, 0, 1, 1, 1, 1,\n",
       "       1, 1, 1, 1, 1, 1, 1, 2, 1, 1, 1, 1, 1, 1, 1, 1, 1, 1, 1, 1, 1, 1,\n",
       "       1, 1, 1, 1, 1, 1, 1, 1, 0, 1, 1, 1, 1, 1, 1, 1, 1, 1, 1, 1, 0, 0,\n",
       "       0, 0, 0, 0, 0, 0, 0, 0, 0, 0, 0, 0, 0, 0, 0, 0, 0, 0, 0, 0, 0, 0,\n",
       "       0, 0, 0, 0, 0, 0, 0, 0, 0, 0, 0, 0, 0, 0, 0, 0, 0, 0, 0, 0, 0, 0,\n",
       "       0, 0], dtype=int32)"
      ]
     },
     "execution_count": 11,
     "metadata": {},
     "output_type": "execute_result"
    }
   ],
   "source": [
    "kmeans_preds # Tahmini kümeler"
   ]
  },
  {
   "cell_type": "code",
   "execution_count": 12,
   "id": "99f0c403",
   "metadata": {},
   "outputs": [
    {
     "data": {
      "text/plain": [
       "array([False, False, False, False, False, False, False, False, False,\n",
       "       False, False, False, False, False, False, False, False, False,\n",
       "       False, False, False, False, False, False, False, False, False,\n",
       "       False, False, False, False, False, False, False, False, False,\n",
       "       False, False, False, False, False, False, False, False, False,\n",
       "       False, False, False, False, False, False, False, False, False,\n",
       "       False, False, False, False, False, False, False,  True, False,\n",
       "       False, False, False, False, False, False, False, False, False,\n",
       "       False, False, False, False, False, False, False, False, False,\n",
       "       False, False,  True, False, False, False, False, False, False,\n",
       "       False, False, False, False, False, False, False, False, False,\n",
       "       False, False, False, False, False, False, False, False, False,\n",
       "       False, False, False, False, False, False, False, False, False,\n",
       "       False,  True, False, False, False, False, False, False, False,\n",
       "       False, False, False, False,  True,  True,  True,  True,  True,\n",
       "        True,  True,  True,  True,  True,  True,  True,  True,  True,\n",
       "        True,  True,  True,  True,  True,  True,  True,  True,  True,\n",
       "        True,  True,  True,  True,  True,  True,  True,  True,  True,\n",
       "        True,  True,  True,  True,  True,  True,  True,  True,  True,\n",
       "        True,  True,  True,  True,  True,  True,  True])"
      ]
     },
     "execution_count": 12,
     "metadata": {},
     "output_type": "execute_result"
    }
   ],
   "source": [
    "kmeans_preds == 0 # 1 olarak tahmin edilen samplelar"
   ]
  },
  {
   "cell_type": "code",
   "execution_count": 13,
   "id": "9d32afe9",
   "metadata": {},
   "outputs": [
    {
     "data": {
      "text/plain": [
       "array([1, 1, 1, 2, 2, 2, 2, 2, 2, 2, 2, 2, 2, 2, 2, 2, 2, 2, 2, 2, 2, 2,\n",
       "       2, 2, 2, 2, 2, 2, 2, 2, 2, 2, 2, 2, 2, 2, 2, 2, 2, 2, 2, 2, 2, 2,\n",
       "       2, 2, 2, 2, 2, 2, 2])"
      ]
     },
     "execution_count": 13,
     "metadata": {},
     "output_type": "execute_result"
    }
   ],
   "source": [
    "labels[kmeans_preds == 0] # 1 olarak tahmin edilen sampleların gerçek etiketi"
   ]
  },
  {
   "cell_type": "code",
   "execution_count": 14,
   "id": "e96d6814",
   "metadata": {},
   "outputs": [
    {
     "name": "stdout",
     "output_type": "stream",
     "text": [
      "K-Means\n",
      "\n",
      "For Group 0\n",
      "Ratio of group 0: 0.00\n",
      "Ratio of group 1: 0.06\n",
      "Ratio of group 2: 0.94\n",
      "----\n",
      "For Group 1\n",
      "Ratio of group 0: 0.00\n",
      "Ratio of group 1: 1.00\n",
      "Ratio of group 2: 0.00\n",
      "----\n",
      "For Group 2\n",
      "Ratio of group 0: 0.97\n",
      "Ratio of group 1: 0.03\n",
      "Ratio of group 2: 0.00\n",
      "----\n"
     ]
    }
   ],
   "source": [
    "print(\"K-Means\\n\")\n",
    "for i in range(N_CLUSTERS): # Her bir küme için\n",
    "    print(f\"For Group {i}\") # i olarak kümelendirdiklerimiz için:\n",
    "    group_i = labels[kmeans_preds == i] # group_i = i olarak kümelendirilen sampleların gerçek etiketi\n",
    "    print_ratio(group_i) # Gerçek etiketlerin dağılımı\n",
    "    print(\"----\")"
   ]
  },
  {
   "cell_type": "markdown",
   "id": "fe0065a6",
   "metadata": {},
   "source": [
    "#### Hierarchical Clustering"
   ]
  },
  {
   "cell_type": "code",
   "execution_count": 15,
   "id": "cd5955cb",
   "metadata": {},
   "outputs": [],
   "source": [
    "# Farklı uzaklık metrikleri ve küme belirleme yöntemi kullanan 3 kümeleme modeli tanımlıyoruz\n",
    "\n",
    "hi_cl_euclidean = AgglomerativeClustering(n_clusters=N_CLUSTERS, affinity=\"euclidean\", linkage=\"average\")\n",
    "hi_cl_cos = AgglomerativeClustering(n_clusters=N_CLUSTERS, affinity=\"cosine\", linkage=\"average\")\n",
    "hi_def = AgglomerativeClustering(n_clusters=N_CLUSTERS)"
   ]
  },
  {
   "cell_type": "code",
   "execution_count": 16,
   "id": "cd5c2bbb",
   "metadata": {},
   "outputs": [],
   "source": [
    "euc_preds = hi_cl_euclidean.fit_predict(features)\n",
    "cos_preds = hi_cl_cos.fit_predict(features)\n",
    "def_preds = hi_def.fit_predict(features)"
   ]
  },
  {
   "cell_type": "code",
   "execution_count": 17,
   "id": "7b5e14d9",
   "metadata": {},
   "outputs": [
    {
     "name": "stdout",
     "output_type": "stream",
     "text": [
      "Euclidean Distance\n",
      "\n",
      "For Group 0\n",
      "Ratio of group 0: 0.33\n",
      "Ratio of group 1: 0.39\n",
      "Ratio of group 2: 0.28\n",
      "----\n",
      "For Group 1\n",
      "Ratio of group 0: 0.00\n",
      "Ratio of group 1: 1.00\n",
      "Ratio of group 2: 0.00\n",
      "----\n",
      "For Group 2\n",
      "Ratio of group 0: 0.33\n",
      "Ratio of group 1: 0.67\n",
      "Ratio of group 2: 0.00\n",
      "----\n"
     ]
    }
   ],
   "source": [
    "print(\"Euclidean Distance\\n\")\n",
    "for i in range(N_CLUSTERS):\n",
    "    print(f\"For Group {i}\")\n",
    "    group_i = labels[euc_preds == i]\n",
    "    print_ratio(group_i)\n",
    "    print(\"----\")"
   ]
  },
  {
   "cell_type": "code",
   "execution_count": 18,
   "id": "63412984",
   "metadata": {},
   "outputs": [
    {
     "name": "stdout",
     "output_type": "stream",
     "text": [
      "Cosine Distance\n",
      "\n",
      "For Group 0\n",
      "Ratio of group 0: 0.87\n",
      "Ratio of group 1: 0.13\n",
      "Ratio of group 2: 0.00\n",
      "----\n",
      "For Group 1\n",
      "Ratio of group 0: 0.00\n",
      "Ratio of group 1: 1.00\n",
      "Ratio of group 2: 0.00\n",
      "----\n",
      "For Group 2\n",
      "Ratio of group 0: 0.00\n",
      "Ratio of group 1: 0.08\n",
      "Ratio of group 2: 0.92\n",
      "----\n"
     ]
    }
   ],
   "source": [
    "print(\"Cosine Distance\\n\")\n",
    "for i in range(N_CLUSTERS):\n",
    "    print(f\"For Group {i}\")\n",
    "    group_i = labels[cos_preds == i]\n",
    "    print_ratio(group_i)\n",
    "    print(\"----\")"
   ]
  },
  {
   "cell_type": "code",
   "execution_count": 19,
   "id": "8a6788da",
   "metadata": {},
   "outputs": [
    {
     "name": "stdout",
     "output_type": "stream",
     "text": [
      "Default Arguments\n",
      "\n",
      "For Group 0\n",
      "Ratio of group 0: 0.00\n",
      "Ratio of group 1: 1.00\n",
      "Ratio of group 2: 0.00\n",
      "----\n",
      "For Group 1\n",
      "Ratio of group 0: 0.00\n",
      "Ratio of group 1: 0.14\n",
      "Ratio of group 2: 0.86\n",
      "----\n",
      "For Group 2\n",
      "Ratio of group 0: 0.92\n",
      "Ratio of group 1: 0.08\n",
      "Ratio of group 2: 0.00\n",
      "----\n"
     ]
    }
   ],
   "source": [
    "print(\"Default Arguments\\n\")\n",
    "for i in range(N_CLUSTERS):\n",
    "    print(f\"For Group {i}\")\n",
    "    group_i = labels[def_preds == i]\n",
    "    print_ratio(group_i)\n",
    "    print(\"----\")"
   ]
  },
  {
   "cell_type": "markdown",
   "id": "300df3ab",
   "metadata": {},
   "source": [
    "## Supervised Learning"
   ]
  },
  {
   "cell_type": "markdown",
   "id": "030d3c02",
   "metadata": {},
   "source": [
    "Gözetimli öğrenme için de Naive Bayes uygulamasına bakacağız."
   ]
  },
  {
   "cell_type": "markdown",
   "id": "996e9169",
   "metadata": {},
   "source": [
    "### Naive Bayes"
   ]
  },
  {
   "cell_type": "code",
   "execution_count": 20,
   "id": "5f7546d8",
   "metadata": {},
   "outputs": [],
   "source": [
    "import numpy as np\n",
    "import pandas as pd\n",
    "\n",
    "from sklearn.model_selection import train_test_split\n",
    "from sklearn.feature_extraction.text import CountVectorizer\n",
    "import nltk\n",
    "from nltk.corpus import stopwords\n",
    "from nltk import RegexpTokenizer\n",
    "from string import punctuation\n",
    "from nltk.stem.porter import *\n",
    "\n",
    "from sklearn.metrics import classification_report\n",
    "from sklearn.naive_bayes import GaussianNB, MultinomialNB"
   ]
  },
  {
   "cell_type": "code",
   "execution_count": 21,
   "id": "c23936e5",
   "metadata": {},
   "outputs": [],
   "source": [
    "punctuation = set(list(punctuation)) # Noktalama işaretleri"
   ]
  },
  {
   "cell_type": "code",
   "execution_count": 22,
   "id": "91e1909a",
   "metadata": {},
   "outputs": [],
   "source": [
    "data = pd.read_csv(\"spam_or_not_spam.csv\")"
   ]
  },
  {
   "cell_type": "code",
   "execution_count": 23,
   "id": "b803e580",
   "metadata": {},
   "outputs": [],
   "source": [
    "features = data.email\n",
    "labels = data.label"
   ]
  },
  {
   "cell_type": "code",
   "execution_count": 24,
   "id": "7031a4fd",
   "metadata": {},
   "outputs": [],
   "source": [
    "features = features.str.lower() # Karakterleri küçük harfe çeviriyoruz"
   ]
  },
  {
   "cell_type": "code",
   "execution_count": 25,
   "id": "b89c4656",
   "metadata": {},
   "outputs": [],
   "source": [
    "features = features.str.split() # Cümle halindeki stringleri listeye çeviriyoruz.\n",
    "# Örneğin \"Ugur Ali Kaplan\" -> [\"Ugur\", \"Ali\", \"Kaplan\"]"
   ]
  },
  {
   "cell_type": "code",
   "execution_count": 26,
   "id": "002d6e70",
   "metadata": {},
   "outputs": [
    {
     "data": {
      "text/plain": [
       "1"
      ]
     },
     "execution_count": 26,
     "metadata": {},
     "output_type": "execute_result"
    }
   ],
   "source": [
    "features.isna().sum() # Boş olan bir değer"
   ]
  },
  {
   "cell_type": "code",
   "execution_count": 27,
   "id": "e45590e3",
   "metadata": {},
   "outputs": [],
   "source": [
    "# Boş olan değeri çıkarıyoruz\n",
    "labels = labels[~features.isna()]\n",
    "features = features[~features.isna()]"
   ]
  },
  {
   "cell_type": "code",
   "execution_count": 28,
   "id": "eaeaae18",
   "metadata": {},
   "outputs": [
    {
     "name": "stderr",
     "output_type": "stream",
     "text": [
      "[nltk_data] Downloading package stopwords to\n",
      "[nltk_data]     /home/ugurkap/nltk_data...\n",
      "[nltk_data]   Package stopwords is already up-to-date!\n"
     ]
    }
   ],
   "source": [
    "# İngilizcede yaygın stopwordleri indiriyoruz. Mesela I, we, have, had. Bunların bize çok faydası yok.\n",
    "nltk.download(\"stopwords\")\n",
    "stop_words = set(stopwords.words('english'))"
   ]
  },
  {
   "cell_type": "code",
   "execution_count": 29,
   "id": "e71e40de",
   "metadata": {},
   "outputs": [],
   "source": [
    "# Stopword olmayanları tutuyoruz, stop wordleri listeden çıkarıyoruz.\n",
    "features = features.apply(lambda word_tokens: [w for w in word_tokens if not w in stop_words.union(punctuation)])"
   ]
  },
  {
   "cell_type": "code",
   "execution_count": 30,
   "id": "468b611c",
   "metadata": {},
   "outputs": [],
   "source": [
    "# Kelime köklerini elde etmek için PorterStemmer kullanacağız.\n",
    "stemmer = PorterStemmer()"
   ]
  },
  {
   "cell_type": "code",
   "execution_count": 31,
   "id": "5e07babf",
   "metadata": {},
   "outputs": [],
   "source": [
    "# Her kelimenin kökünü alıyoruz.\n",
    "features = features.apply(lambda word_tokens: [stemmer.stem(w) for w in word_tokens])"
   ]
  },
  {
   "cell_type": "code",
   "execution_count": 32,
   "id": "c65e1959",
   "metadata": {},
   "outputs": [],
   "source": [
    "X_tr, X_te, y_tr, y_te = train_test_split(features, labels, test_size=0.1, random_state=0)"
   ]
  },
  {
   "cell_type": "code",
   "execution_count": 33,
   "id": "f1b81e9b",
   "metadata": {},
   "outputs": [],
   "source": [
    "assert (X_tr.index == y_tr.index).all()"
   ]
  },
  {
   "cell_type": "code",
   "execution_count": 34,
   "id": "d211b830",
   "metadata": {},
   "outputs": [],
   "source": [
    "assert (X_te.index == y_te.index).all()"
   ]
  },
  {
   "cell_type": "code",
   "execution_count": 35,
   "id": "2826cd31",
   "metadata": {},
   "outputs": [],
   "source": [
    "# Bag-of-Words\n",
    "vectorizer = CountVectorizer(tokenizer=lambda x: x, preprocessor=lambda y: y, max_features=10000)"
   ]
  },
  {
   "cell_type": "code",
   "execution_count": 36,
   "id": "715319db",
   "metadata": {},
   "outputs": [],
   "source": [
    "X_tr = vectorizer.fit_transform(X_tr)"
   ]
  },
  {
   "cell_type": "code",
   "execution_count": 37,
   "id": "be80e9e1",
   "metadata": {},
   "outputs": [],
   "source": [
    "X_te = vectorizer.transform(X_te)"
   ]
  },
  {
   "cell_type": "code",
   "execution_count": 38,
   "id": "d209f55d",
   "metadata": {},
   "outputs": [],
   "source": [
    "X_tr = X_tr.toarray()\n",
    "X_te = X_te.toarray()"
   ]
  },
  {
   "cell_type": "code",
   "execution_count": 39,
   "id": "bd17f881",
   "metadata": {},
   "outputs": [
    {
     "data": {
      "text/plain": [
       "(2699, 10000)"
      ]
     },
     "execution_count": 39,
     "metadata": {},
     "output_type": "execute_result"
    }
   ],
   "source": [
    "X_tr.shape"
   ]
  },
  {
   "cell_type": "code",
   "execution_count": 40,
   "id": "274018d4",
   "metadata": {},
   "outputs": [
    {
     "data": {
      "text/plain": [
       "(300, 10000)"
      ]
     },
     "execution_count": 40,
     "metadata": {},
     "output_type": "execute_result"
    }
   ],
   "source": [
    "X_te.shape"
   ]
  },
  {
   "cell_type": "code",
   "execution_count": 41,
   "id": "7ca1634b",
   "metadata": {},
   "outputs": [
    {
     "data": {
      "text/plain": [
       "array([0, 0, 0, ..., 0, 0, 0])"
      ]
     },
     "execution_count": 41,
     "metadata": {},
     "output_type": "execute_result"
    }
   ],
   "source": [
    "X_tr[0]"
   ]
  },
  {
   "cell_type": "markdown",
   "id": "e6abefee",
   "metadata": {},
   "source": [
    "Artık sınıflandırımızı tanımlayabiliriz."
   ]
  },
  {
   "cell_type": "code",
   "execution_count": 42,
   "id": "cd433a3a",
   "metadata": {},
   "outputs": [],
   "source": [
    "# Gaussian Naive Bayes\n",
    "clf = GaussianNB()"
   ]
  },
  {
   "cell_type": "code",
   "execution_count": 43,
   "id": "7e589c13",
   "metadata": {},
   "outputs": [
    {
     "data": {
      "text/plain": [
       "GaussianNB()"
      ]
     },
     "execution_count": 43,
     "metadata": {},
     "output_type": "execute_result"
    }
   ],
   "source": [
    "clf.fit(X_tr, y_tr)"
   ]
  },
  {
   "cell_type": "code",
   "execution_count": 44,
   "id": "37797746",
   "metadata": {},
   "outputs": [],
   "source": [
    "train_preds = clf.predict(X_tr)"
   ]
  },
  {
   "cell_type": "code",
   "execution_count": 45,
   "id": "2200b779",
   "metadata": {},
   "outputs": [],
   "source": [
    "test_preds = clf.predict(X_te)"
   ]
  },
  {
   "cell_type": "code",
   "execution_count": 46,
   "id": "7ee06594",
   "metadata": {},
   "outputs": [
    {
     "name": "stdout",
     "output_type": "stream",
     "text": [
      "              precision    recall  f1-score   support\n",
      "\n",
      "           0       1.00      0.96      0.98      2247\n",
      "           1       0.83      1.00      0.91       452\n",
      "\n",
      "    accuracy                           0.97      2699\n",
      "   macro avg       0.92      0.98      0.94      2699\n",
      "weighted avg       0.97      0.97      0.97      2699\n",
      "\n"
     ]
    }
   ],
   "source": [
    "print(classification_report(y_tr, train_preds))"
   ]
  },
  {
   "cell_type": "code",
   "execution_count": 47,
   "id": "23a9a9f7",
   "metadata": {},
   "outputs": [
    {
     "name": "stdout",
     "output_type": "stream",
     "text": [
      "              precision    recall  f1-score   support\n",
      "\n",
      "           0       0.97      0.95      0.96       253\n",
      "           1       0.75      0.85      0.80        47\n",
      "\n",
      "    accuracy                           0.93       300\n",
      "   macro avg       0.86      0.90      0.88       300\n",
      "weighted avg       0.94      0.93      0.93       300\n",
      "\n"
     ]
    }
   ],
   "source": [
    "print(classification_report(y_te, test_preds))"
   ]
  },
  {
   "cell_type": "code",
   "execution_count": 48,
   "id": "9b7251ca",
   "metadata": {},
   "outputs": [],
   "source": [
    "multi_clf = MultinomialNB() # Multinomial Naive Bayes"
   ]
  },
  {
   "cell_type": "code",
   "execution_count": 49,
   "id": "ea79dad3",
   "metadata": {},
   "outputs": [
    {
     "data": {
      "text/plain": [
       "MultinomialNB()"
      ]
     },
     "execution_count": 49,
     "metadata": {},
     "output_type": "execute_result"
    }
   ],
   "source": [
    "multi_clf.fit(X_tr, y_tr)"
   ]
  },
  {
   "cell_type": "code",
   "execution_count": 50,
   "id": "991d3f45",
   "metadata": {},
   "outputs": [],
   "source": [
    "multi_train_preds = multi_clf.predict(X_tr)\n",
    "multi_test_preds = multi_clf.predict(X_te)"
   ]
  },
  {
   "cell_type": "code",
   "execution_count": 51,
   "id": "55ebfcac",
   "metadata": {},
   "outputs": [
    {
     "name": "stdout",
     "output_type": "stream",
     "text": [
      "              precision    recall  f1-score   support\n",
      "\n",
      "           0       1.00      1.00      1.00      2247\n",
      "           1       0.98      0.98      0.98       452\n",
      "\n",
      "    accuracy                           0.99      2699\n",
      "   macro avg       0.99      0.99      0.99      2699\n",
      "weighted avg       0.99      0.99      0.99      2699\n",
      "\n"
     ]
    }
   ],
   "source": [
    "print(classification_report(y_tr, multi_train_preds))"
   ]
  },
  {
   "cell_type": "code",
   "execution_count": 52,
   "id": "aead25e4",
   "metadata": {},
   "outputs": [
    {
     "name": "stdout",
     "output_type": "stream",
     "text": [
      "              precision    recall  f1-score   support\n",
      "\n",
      "           0       0.99      1.00      0.99       253\n",
      "           1       1.00      0.94      0.97        47\n",
      "\n",
      "    accuracy                           0.99       300\n",
      "   macro avg       0.99      0.97      0.98       300\n",
      "weighted avg       0.99      0.99      0.99       300\n",
      "\n"
     ]
    }
   ],
   "source": [
    "print(classification_report(y_te, multi_test_preds))"
   ]
  },
  {
   "cell_type": "code",
   "execution_count": 53,
   "id": "c7d65a77",
   "metadata": {},
   "outputs": [],
   "source": [
    "def classify_text(inp, clf=multi_clf):\n",
    "    \"\"\"\n",
    "    Yukarıda yaptığımız veri işleme adımlarını tek fonksiyon içine topladık. Verilen sınıflandırıcıya göre\n",
    "    Spam veya Not Spam şeklinde çıktı veriyoruz.\n",
    "    \"\"\"\n",
    "    def process_text(text):\n",
    "        word_tokens = text.lower().split()\n",
    "        word_tokens = [w for w in word_tokens if not w in stop_words.union(punctuation)]\n",
    "        word_tokens = [stemmer.stem(w) for w in word_tokens]\n",
    "        return vectorizer.transform(np.array([word_tokens])).toarray()\n",
    "    \n",
    "    print(\"Spam\" if clf.predict(process_text(inp))[0] == 1 else \"Not Spam\")"
   ]
  },
  {
   "cell_type": "code",
   "execution_count": 54,
   "id": "b9c0d092",
   "metadata": {},
   "outputs": [],
   "source": [
    "spam_example = \"I am very rich but I do not have access to my wallet. If you send money to my account, I will return it 10 times more. Pls help.\""
   ]
  },
  {
   "cell_type": "code",
   "execution_count": 55,
   "id": "87e2edd6",
   "metadata": {},
   "outputs": [],
   "source": [
    "ham_example = \"See you at the meeting. - Your boss\""
   ]
  },
  {
   "cell_type": "code",
   "execution_count": 56,
   "id": "3d766435",
   "metadata": {},
   "outputs": [
    {
     "name": "stdout",
     "output_type": "stream",
     "text": [
      "Spam\n"
     ]
    }
   ],
   "source": [
    "classify_text(spam_example)"
   ]
  },
  {
   "cell_type": "code",
   "execution_count": 57,
   "id": "7d0a1ab6",
   "metadata": {},
   "outputs": [
    {
     "name": "stdout",
     "output_type": "stream",
     "text": [
      "Not Spam\n"
     ]
    }
   ],
   "source": [
    "classify_text(ham_example)"
   ]
  },
  {
   "cell_type": "markdown",
   "id": "c626b57c",
   "metadata": {},
   "source": [
    "Good."
   ]
  },
  {
   "cell_type": "markdown",
   "id": "e3a19c01",
   "metadata": {},
   "source": [
    "#### Comparing with Others"
   ]
  },
  {
   "cell_type": "markdown",
   "id": "eef66b4c",
   "metadata": {},
   "source": [
    "Examples are taken from https://www.kaggle.com/bendith/naive-bayes-spam-classifier#Fitting-model-and-getting-result\n",
    "\n",
    "They also use Naive Bayes. Their model report \"Spam, Not Spam, Spam\".\n",
    "\n",
    "Ground Truth: \"Spam, Not Spam, Not Spam\""
   ]
  },
  {
   "cell_type": "code",
   "execution_count": 58,
   "id": "c1df7294",
   "metadata": {},
   "outputs": [],
   "source": [
    "example_mail_1 = \"Hi, My name is Warren E. Buffett an American business magnate, investor and philanthropist. am the most successful investor in the world. I believe strongly in‘giving while living’ I had one idea that never changed in my mind? that you should use your wealth to help people and i have decided to give {$1,500,000.00} One Million Five Hundred Thousand United Dollars, to randomly selected individuals worldwide. On receipt of this email, you should count yourself as the lucky individual. Your email address was chosen online while searching at random. Kindly get back to me at your earliest convenience before i travel to japan for my treatment , so I know your email address is valid. Thank you for accepting our offer, we are indeed grateful You Can Google my name for more information: God bless you. Best Regard Mr.Warren E. Buffett Billionaire investor !\"\n",
    "example_mail_2 = \"Hi guys I want to build a website like REDACTED and I wanted to get your perspective of whether that site is good from the users' perspective before I go ahead and build something similar. I think that the design of the site is very modern and nice but I am not sure how people would react to a similar site? I look forward to your feedback. Many thanks! \"\n",
    "example_mail_3 = \"As a result of your application for the position of Data Engineer, I would like to invite you to attend an interview on May 30, at 9 a.m. at our office in Washington, DC. You will have an interview with the department manager, Moris Peterson. The interview will last about 45 minutes. If the date or time of the interview is inconvenient, please contact me by phone or email to arrange another appointment. We look forward to seeing you. \""
   ]
  },
  {
   "cell_type": "code",
   "execution_count": 59,
   "id": "a4d3bbac",
   "metadata": {},
   "outputs": [
    {
     "name": "stdout",
     "output_type": "stream",
     "text": [
      "Spam\n"
     ]
    }
   ],
   "source": [
    "classify_text(example_mail_1)"
   ]
  },
  {
   "cell_type": "code",
   "execution_count": 60,
   "id": "0caaccff",
   "metadata": {},
   "outputs": [
    {
     "name": "stdout",
     "output_type": "stream",
     "text": [
      "Not Spam\n"
     ]
    }
   ],
   "source": [
    "classify_text(example_mail_2)"
   ]
  },
  {
   "cell_type": "code",
   "execution_count": 61,
   "id": "fe35e872",
   "metadata": {},
   "outputs": [
    {
     "name": "stdout",
     "output_type": "stream",
     "text": [
      "Not Spam\n"
     ]
    }
   ],
   "source": [
    "classify_text(example_mail_3)"
   ]
  }
 ],
 "metadata": {
  "kernelspec": {
   "display_name": "Python 3 (ipykernel)",
   "language": "python",
   "name": "python3"
  },
  "language_info": {
   "codemirror_mode": {
    "name": "ipython",
    "version": 3
   },
   "file_extension": ".py",
   "mimetype": "text/x-python",
   "name": "python",
   "nbconvert_exporter": "python",
   "pygments_lexer": "ipython3",
   "version": "3.8.10"
  }
 },
 "nbformat": 4,
 "nbformat_minor": 5
}
