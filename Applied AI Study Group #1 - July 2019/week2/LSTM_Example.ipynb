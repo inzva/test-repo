{
  "nbformat": 4,
  "nbformat_minor": 0,
  "metadata": {
    "colab": {
      "name": "LSTM Example.ipynb",
      "version": "0.3.2",
      "provenance": [],
      "collapsed_sections": []
    },
    "kernelspec": {
      "name": "python3",
      "display_name": "Python 3"
    },
    "accelerator": "GPU"
  },
  "cells": [
    {
      "cell_type": "code",
      "metadata": {
        "id": "jzP2okHCWerc",
        "colab_type": "code",
        "colab": {
          "base_uri": "https://localhost:8080/",
          "height": 84
        },
        "outputId": "7f33dea1-3310-4d22-ba27-48b4e7850ede"
      },
      "source": [
        "import pandas as pd\n",
        "import gdown \n",
        "gdown.download('https://drive.google.com/uc?id={}'.format('1wdbtj2s9Vst5EQll1oqc1qXx-_tTv7Cf'),'DCOILBRENTEU.csv',quiet=False)\n",
        "df_data_1 = pd.read_csv(\"DCOILBRENTEU.csv\")"
      ],
      "execution_count": 1,
      "outputs": [
        {
          "output_type": "stream",
          "text": [
            "Downloading...\n",
            "From: https://drive.google.com/uc?id=1wdbtj2s9Vst5EQll1oqc1qXx-_tTv7Cf\n",
            "To: /content/DCOILBRENTEU.csv\n",
            "100%|██████████| 143k/143k [00:00<00:00, 34.3MB/s]\n"
          ],
          "name": "stderr"
        }
      ]
    },
    {
      "cell_type": "code",
      "metadata": {
        "id": "pBwo-LhvaKq3",
        "colab_type": "code",
        "colab": {
          "base_uri": "https://localhost:8080/",
          "height": 195
        },
        "outputId": "106f7ff9-62cb-41c8-9f81-46b8ae445365"
      },
      "source": [
        "df_data_1.head()"
      ],
      "execution_count": 2,
      "outputs": [
        {
          "output_type": "execute_result",
          "data": {
            "text/html": [
              "<div>\n",
              "<style scoped>\n",
              "    .dataframe tbody tr th:only-of-type {\n",
              "        vertical-align: middle;\n",
              "    }\n",
              "\n",
              "    .dataframe tbody tr th {\n",
              "        vertical-align: top;\n",
              "    }\n",
              "\n",
              "    .dataframe thead th {\n",
              "        text-align: right;\n",
              "    }\n",
              "</style>\n",
              "<table border=\"1\" class=\"dataframe\">\n",
              "  <thead>\n",
              "    <tr style=\"text-align: right;\">\n",
              "      <th></th>\n",
              "      <th>DATE</th>\n",
              "      <th>DCOILBRENTEU</th>\n",
              "    </tr>\n",
              "  </thead>\n",
              "  <tbody>\n",
              "    <tr>\n",
              "      <th>0</th>\n",
              "      <td>1987-05-20</td>\n",
              "      <td>18.63</td>\n",
              "    </tr>\n",
              "    <tr>\n",
              "      <th>1</th>\n",
              "      <td>1987-05-21</td>\n",
              "      <td>18.45</td>\n",
              "    </tr>\n",
              "    <tr>\n",
              "      <th>2</th>\n",
              "      <td>1987-05-22</td>\n",
              "      <td>18.55</td>\n",
              "    </tr>\n",
              "    <tr>\n",
              "      <th>3</th>\n",
              "      <td>1987-05-25</td>\n",
              "      <td>18.60</td>\n",
              "    </tr>\n",
              "    <tr>\n",
              "      <th>4</th>\n",
              "      <td>1987-05-26</td>\n",
              "      <td>18.63</td>\n",
              "    </tr>\n",
              "  </tbody>\n",
              "</table>\n",
              "</div>"
            ],
            "text/plain": [
              "         DATE DCOILBRENTEU\n",
              "0  1987-05-20        18.63\n",
              "1  1987-05-21        18.45\n",
              "2  1987-05-22        18.55\n",
              "3  1987-05-25        18.60\n",
              "4  1987-05-26        18.63"
            ]
          },
          "metadata": {
            "tags": []
          },
          "execution_count": 2
        }
      ]
    },
    {
      "cell_type": "code",
      "metadata": {
        "id": "7ES2zpXiaQ50",
        "colab_type": "code",
        "colab": {
          "base_uri": "https://localhost:8080/",
          "height": 34
        },
        "outputId": "1581cd52-a7c8-4de5-acc6-60c69e7450e4"
      },
      "source": [
        "df_data_1 = df_data_1[df_data_1.DCOILBRENTEU != \".\"]\n",
        "print(df_data_1.shape)"
      ],
      "execution_count": 3,
      "outputs": [
        {
          "output_type": "stream",
          "text": [
            "(8156, 2)\n"
          ],
          "name": "stdout"
        }
      ]
    },
    {
      "cell_type": "code",
      "metadata": {
        "id": "IwEdBh0_a0Q7",
        "colab_type": "code",
        "colab": {
          "base_uri": "https://localhost:8080/",
          "height": 281
        },
        "outputId": "80e07a22-7274-4d88-afe9-18f87aed88b7"
      },
      "source": [
        "import matplotlib.pyplot as plt\n",
        "df_data_1_plot = df_data_1.iloc[:,1].values.astype(float)\n",
        "\n",
        "plt.plot(df_data_1_plot, color = \"red\", label = \"Petrol Borsası\")\n",
        "plt.title(\"Petrol\")\n",
        "plt.legend()\n",
        "plt.show()"
      ],
      "execution_count": 4,
      "outputs": [
        {
          "output_type": "display_data",
          "data": {
            "image/png": "[encoded data removed]",
            "text/plain": [
              "<Figure size 432x288 with 1 Axes>"
            ]
          },
          "metadata": {
            "tags": []
          }
        }
      ]
    },
    {
      "cell_type": "code",
      "metadata": {
        "id": "YQw82nvHbNWg",
        "colab_type": "code",
        "colab": {}
      },
      "source": [
        "import numpy as np\n"
      ],
      "execution_count": 0,
      "outputs": []
    },
    {
      "cell_type": "code",
      "metadata": {
        "id": "pzPngNuybqcV",
        "colab_type": "code",
        "colab": {}
      },
      "source": [
        "batch_size = 64\n",
        "epochs = 120\n",
        "timesteps = 30"
      ],
      "execution_count": 0,
      "outputs": []
    },
    {
      "cell_type": "code",
      "metadata": {
        "id": "H_LEV8tXb-eF",
        "colab_type": "code",
        "colab": {
          "base_uri": "https://localhost:8080/",
          "height": 50
        },
        "outputId": "d377d10a-b26e-4fb7-ccc4-b9608b3aeb1c"
      },
      "source": [
        "length = len(df_data_1)\n",
        "print(length)\n",
        "length *= 1 - 0.1\n",
        "print(length)"
      ],
      "execution_count": 7,
      "outputs": [
        {
          "output_type": "stream",
          "text": [
            "8156\n",
            "7340.400000000001\n"
          ],
          "name": "stdout"
        }
      ]
    },
    {
      "cell_type": "code",
      "metadata": {
        "id": "HKlBdS0ncKZ-",
        "colab_type": "code",
        "colab": {}
      },
      "source": [
        "def get_train_length(dataset, batch_size, test_percent):\n",
        "    # substract test_percent to be excluded from training, reserved for testset\n",
        "    length = len(dataset)\n",
        "    length *= 1 - test_percent\n",
        "    train_length_values = []\n",
        "    for x in range(int(length) - 100,int(length)): \n",
        "        modulo=x%batch_size\n",
        "        if (modulo == 0):\n",
        "            train_length_values.append(x)\n",
        "            print(x)\n",
        "    return (max(train_length_values))"
      ],
      "execution_count": 0,
      "outputs": []
    },
    {
      "cell_type": "code",
      "metadata": {
        "id": "O5fBvZPvcu14",
        "colab_type": "code",
        "colab": {
          "base_uri": "https://localhost:8080/",
          "height": 50
        },
        "outputId": "a837b1ca-c8aa-4476-aa6d-b434ebefd47b"
      },
      "source": [
        "length = get_train_length(df_data_1, 64, 0.1)\n",
        "print(length)"
      ],
      "execution_count": 9,
      "outputs": [
        {
          "output_type": "stream",
          "text": [
            "7296\n",
            "7296\n"
          ],
          "name": "stdout"
        }
      ]
    },
    {
      "cell_type": "code",
      "metadata": {
        "id": "aorx_nkMc7F6",
        "colab_type": "code",
        "colab": {
          "base_uri": "https://localhost:8080/",
          "height": 34
        },
        "outputId": "d4a9545b-bae9-42eb-b679-69ec872bed42"
      },
      "source": [
        "upper_train = length + timesteps * 2\n",
        "df_data_1_train = df_data_1[0:upper_train]\n",
        "training_set = df_data_1_train.iloc[:,1:2].values\n",
        "training_set.shape"
      ],
      "execution_count": 10,
      "outputs": [
        {
          "output_type": "execute_result",
          "data": {
            "text/plain": [
              "(7356, 1)"
            ]
          },
          "metadata": {
            "tags": []
          },
          "execution_count": 10
        }
      ]
    },
    {
      "cell_type": "code",
      "metadata": {
        "id": "vgT5C35Uf5Zc",
        "colab_type": "code",
        "colab": {
          "base_uri": "https://localhost:8080/",
          "height": 50
        },
        "outputId": "14dbbcea-dbfd-491d-e401-1b0148183043"
      },
      "source": [
        "from sklearn.preprocessing import MinMaxScaler\n",
        "sc = MinMaxScaler(feature_range = (0,1))\n",
        "training_set_scaled = sc.fit_transform(np.float64(training_set))\n",
        "training_set_scaled.shape\n",
        "\n",
        "print(min(training_set))\n",
        "print(min(training_set_scaled))"
      ],
      "execution_count": 11,
      "outputs": [
        {
          "output_type": "stream",
          "text": [
            "['10.05']\n",
            "[0.]\n"
          ],
          "name": "stdout"
        }
      ]
    },
    {
      "cell_type": "code",
      "metadata": {
        "id": "J-tDbvqdf_H_",
        "colab_type": "code",
        "colab": {
          "base_uri": "https://localhost:8080/",
          "height": 490
        },
        "outputId": "9bf22417-b117-45f1-d705-3901042a09c4"
      },
      "source": [
        "X_train = []\n",
        "y_train = []\n",
        "\n",
        "print(length+timesteps)\n",
        "\n",
        "for i in range(timesteps, length + timesteps):\n",
        "  X_train.append(training_set_scaled[i-timesteps:i,0])\n",
        "  y_train.append(training_set_scaled[i:i+timesteps,0])\n",
        "  \n",
        "  \n",
        "print(len(X_train))\n",
        "print(len(y_train))\n",
        "\n",
        "print(X_train[0:2])\n",
        "print(np.array(X_train).shape)\n",
        "\n",
        "print(y_train[0:2])\n",
        "print(np.array(y_train).shape)\n",
        "  \n",
        "  "
      ],
      "execution_count": 12,
      "outputs": [
        {
          "output_type": "stream",
          "text": [
            "7326\n",
            "7296\n",
            "7296\n",
            "[array([0.07067112, 0.0693363 , 0.07007786, 0.07044865, 0.07067112,\n",
            "       0.07044865, 0.07044865, 0.07030033, 0.07081943, 0.0710419 ,\n",
            "       0.07156099, 0.07178346, 0.07081943, 0.07156099, 0.07178346,\n",
            "       0.07178346, 0.0710419 , 0.07178346, 0.07267334, 0.07363737,\n",
            "       0.07378569, 0.07378569, 0.07415647, 0.07267334, 0.07156099,\n",
            "       0.07119021, 0.07400816, 0.07452725, 0.07400816, 0.07326659]), array([0.0693363 , 0.07007786, 0.07044865, 0.07067112, 0.07044865,\n",
            "       0.07044865, 0.07030033, 0.07081943, 0.0710419 , 0.07156099,\n",
            "       0.07178346, 0.07081943, 0.07156099, 0.07178346, 0.07178346,\n",
            "       0.0710419 , 0.07178346, 0.07267334, 0.07363737, 0.07378569,\n",
            "       0.07378569, 0.07415647, 0.07267334, 0.07156099, 0.07119021,\n",
            "       0.07400816, 0.07452725, 0.07400816, 0.07326659, 0.07526882])]\n",
            "(7296, 30)\n",
            "[array([0.07526882, 0.07586207, 0.07697442, 0.07712273, 0.07697442,\n",
            "       0.07845755, 0.07882833, 0.07956989, 0.07994067, 0.08290693,\n",
            "       0.08379681, 0.08550241, 0.08490916, 0.08342603, 0.08327772,\n",
            "       0.0819429 , 0.07771598, 0.0756396 , 0.07919911, 0.08068224,\n",
            "       0.08231368, 0.08105302, 0.08787542, 0.08565072, 0.07934742,\n",
            "       0.07897664, 0.07823508, 0.07660363, 0.07675195, 0.07712273]), array([0.07586207, 0.07697442, 0.07712273, 0.07697442, 0.07845755,\n",
            "       0.07882833, 0.07956989, 0.07994067, 0.08290693, 0.08379681,\n",
            "       0.08550241, 0.08490916, 0.08342603, 0.08327772, 0.0819429 ,\n",
            "       0.07771598, 0.0756396 , 0.07919911, 0.08068224, 0.08231368,\n",
            "       0.08105302, 0.08787542, 0.08565072, 0.07934742, 0.07897664,\n",
            "       0.07823508, 0.07660363, 0.07675195, 0.07712273, 0.07638116])]\n",
            "(7296, 30)\n"
          ],
          "name": "stdout"
        }
      ]
    },
    {
      "cell_type": "code",
      "metadata": {
        "id": "0vAebNVCiKrq",
        "colab_type": "code",
        "colab": {
          "base_uri": "https://localhost:8080/",
          "height": 50
        },
        "outputId": "0d972bd0-d229-4b59-f28e-f7375a9fcf23"
      },
      "source": [
        "X_train, y_train = np.array(X_train), np.array(y_train)\n",
        "\n",
        "X_train = np.reshape(X_train,  (X_train.shape[0], X_train.shape[1],1))\n",
        "y_train = np.reshape(y_train,  (y_train.shape[0], y_train.shape[1],1))\n",
        "\n",
        "print(X_train.shape)\n",
        "print(y_train.shape)"
      ],
      "execution_count": 13,
      "outputs": [
        {
          "output_type": "stream",
          "text": [
            "(7296, 30, 1)\n",
            "(7296, 30, 1)\n"
          ],
          "name": "stdout"
        }
      ]
    },
    {
      "cell_type": "code",
      "metadata": {
        "id": "6H9IfbxdjHUA",
        "colab_type": "code",
        "colab": {
          "base_uri": "https://localhost:8080/",
          "height": 34
        },
        "outputId": "042f45ba-cd00-4421-b726-dbe20e4e4695"
      },
      "source": [
        "from keras.layers import Dense, Input, LSTM\n",
        "from keras.models import Model\n",
        "import h5py\n"
      ],
      "execution_count": 14,
      "outputs": [
        {
          "output_type": "stream",
          "text": [
            "Using TensorFlow backend.\n"
          ],
          "name": "stderr"
        }
      ]
    },
    {
      "cell_type": "code",
      "metadata": {
        "id": "umcp8mu0jy5S",
        "colab_type": "code",
        "colab": {
          "base_uri": "https://localhost:8080/",
          "height": 269
        },
        "outputId": "bd5a34ff-bdb2-4556-da7c-cb03bd58bb43"
      },
      "source": [
        "from keras.layers import CuDNNLSTM\n",
        "input_1 = Input(batch_shape = (64,timesteps,1), name = \"input1\")\n",
        "lstm_1 = CuDNNLSTM(10, stateful = True, return_sequences = True, name = \"lstm_1\")(input_1)\n",
        "lstm_2 = CuDNNLSTM(10, stateful = True, return_sequences = True, name = \"lstm_2\")(lstm_1)\n",
        "output_1 = Dense(1,)(lstm_2)\n",
        "\n",
        "modelim = Model(inputs=input_1, outputs=output_1)\n",
        "\n",
        "modelim.compile(optimizer=\"adam\", loss = \"mae\")\n",
        "modelim.summary()\n"
      ],
      "execution_count": 17,
      "outputs": [
        {
          "output_type": "stream",
          "text": [
            "_________________________________________________________________\n",
            "Layer (type)                 Output Shape              Param #   \n",
            "=================================================================\n",
            "input1 (InputLayer)          (64, 30, 1)               0         \n",
            "_________________________________________________________________\n",
            "lstm_1 (CuDNNLSTM)           (64, 30, 10)              520       \n",
            "_________________________________________________________________\n",
            "lstm_2 (CuDNNLSTM)           (64, 30, 10)              880       \n",
            "_________________________________________________________________\n",
            "dense_2 (Dense)              (64, 30, 1)               11        \n",
            "=================================================================\n",
            "Total params: 1,411\n",
            "Trainable params: 1,411\n",
            "Non-trainable params: 0\n",
            "_________________________________________________________________\n"
          ],
          "name": "stdout"
        }
      ]
    },
    {
      "cell_type": "code",
      "metadata": {
        "id": "sfsFnXxSmmci",
        "colab_type": "code",
        "colab": {
          "base_uri": "https://localhost:8080/",
          "height": 1000
        },
        "outputId": "c647a666-46cd-418d-a71a-2aa0bf83f808"
      },
      "source": [
        "epochs = 100\n",
        "for i in range(epochs):\n",
        "  print(\"Epoch\" + str(i))\n",
        "  modelim.fit(X_train,y_train,shuffle=False, epochs= 1, batch_size = 64)\n",
        "  modelim.reset_states()\n",
        "  "
      ],
      "execution_count": 18,
      "outputs": [
        {
          "output_type": "stream",
          "text": [
            "Epoch0\n",
            "Epoch 1/1\n",
            "7296/7296 [==============================] - 4s 544us/step - loss: 0.0527\n",
            "Epoch1\n",
            "Epoch 1/1\n",
            "7296/7296 [==============================] - 1s 101us/step - loss: 0.0717\n",
            "Epoch2\n",
            "Epoch 1/1\n",
            "7296/7296 [==============================] - 1s 103us/step - loss: 0.0889\n",
            "Epoch3\n",
            "Epoch 1/1\n",
            "7296/7296 [==============================] - 1s 103us/step - loss: 0.0955\n",
            "Epoch4\n",
            "Epoch 1/1\n",
            "7296/7296 [==============================] - 1s 102us/step - loss: 0.1056\n",
            "Epoch5\n",
            "Epoch 1/1\n",
            "7296/7296 [==============================] - 1s 101us/step - loss: 0.0991\n",
            "Epoch6\n",
            "Epoch 1/1\n",
            "7296/7296 [==============================] - 1s 102us/step - loss: 0.0846\n",
            "Epoch7\n",
            "Epoch 1/1\n",
            "7296/7296 [==============================] - 1s 101us/step - loss: 0.0751\n",
            "Epoch8\n",
            "Epoch 1/1\n",
            "7296/7296 [==============================] - 1s 103us/step - loss: 0.0662\n",
            "Epoch9\n",
            "Epoch 1/1\n",
            "7296/7296 [==============================] - 1s 102us/step - loss: 0.0598\n",
            "Epoch10\n",
            "Epoch 1/1\n",
            "7296/7296 [==============================] - 1s 104us/step - loss: 0.0555\n",
            "Epoch11\n",
            "Epoch 1/1\n",
            "7296/7296 [==============================] - 1s 104us/step - loss: 0.0519\n",
            "Epoch12\n",
            "Epoch 1/1\n",
            "7296/7296 [==============================] - 1s 100us/step - loss: 0.0503\n",
            "Epoch13\n",
            "Epoch 1/1\n",
            "7296/7296 [==============================] - 1s 106us/step - loss: 0.0496\n",
            "Epoch14\n",
            "Epoch 1/1\n",
            "7296/7296 [==============================] - 1s 104us/step - loss: 0.0493\n",
            "Epoch15\n",
            "Epoch 1/1\n",
            "7296/7296 [==============================] - 1s 111us/step - loss: 0.0491\n",
            "Epoch16\n",
            "Epoch 1/1\n",
            "7296/7296 [==============================] - 1s 105us/step - loss: 0.0486\n",
            "Epoch17\n",
            "Epoch 1/1\n",
            "7296/7296 [==============================] - 1s 104us/step - loss: 0.0479\n",
            "Epoch18\n",
            "Epoch 1/1\n",
            "7296/7296 [==============================] - 1s 107us/step - loss: 0.0474\n",
            "Epoch19\n",
            "Epoch 1/1\n",
            "7296/7296 [==============================] - 1s 107us/step - loss: 0.0470\n",
            "Epoch20\n",
            "Epoch 1/1\n",
            "7296/7296 [==============================] - 1s 109us/step - loss: 0.0465\n",
            "Epoch21\n",
            "Epoch 1/1\n",
            "7296/7296 [==============================] - 1s 106us/step - loss: 0.0461\n",
            "Epoch22\n",
            "Epoch 1/1\n",
            "7296/7296 [==============================] - 1s 105us/step - loss: 0.0457\n",
            "Epoch23\n",
            "Epoch 1/1\n",
            "7296/7296 [==============================] - 1s 108us/step - loss: 0.0453\n",
            "Epoch24\n",
            "Epoch 1/1\n",
            "7296/7296 [==============================] - 1s 107us/step - loss: 0.0449\n",
            "Epoch25\n",
            "Epoch 1/1\n",
            "7296/7296 [==============================] - 1s 106us/step - loss: 0.0446\n",
            "Epoch26\n",
            "Epoch 1/1\n",
            "7296/7296 [==============================] - 1s 111us/step - loss: 0.0441\n",
            "Epoch27\n",
            "Epoch 1/1\n",
            "7296/7296 [==============================] - 1s 105us/step - loss: 0.0442\n",
            "Epoch28\n",
            "Epoch 1/1\n",
            "7296/7296 [==============================] - 1s 107us/step - loss: 0.0433\n",
            "Epoch29\n",
            "Epoch 1/1\n",
            "7296/7296 [==============================] - 1s 103us/step - loss: 0.0439\n",
            "Epoch30\n",
            "Epoch 1/1\n",
            "7296/7296 [==============================] - 1s 102us/step - loss: 0.0430\n",
            "Epoch31\n",
            "Epoch 1/1\n",
            "7296/7296 [==============================] - 1s 106us/step - loss: 0.0434\n",
            "Epoch32\n",
            "Epoch 1/1\n",
            "7296/7296 [==============================] - 1s 107us/step - loss: 0.0428\n",
            "Epoch33\n",
            "Epoch 1/1\n",
            "7296/7296 [==============================] - 1s 105us/step - loss: 0.0428\n",
            "Epoch34\n",
            "Epoch 1/1\n",
            "7296/7296 [==============================] - 1s 104us/step - loss: 0.0425\n",
            "Epoch35\n",
            "Epoch 1/1\n",
            "7296/7296 [==============================] - 1s 104us/step - loss: 0.0423\n",
            "Epoch36\n",
            "Epoch 1/1\n",
            "7296/7296 [==============================] - 1s 106us/step - loss: 0.0421\n",
            "Epoch37\n",
            "Epoch 1/1\n",
            "7296/7296 [==============================] - 1s 104us/step - loss: 0.0420\n",
            "Epoch38\n",
            "Epoch 1/1\n",
            "7296/7296 [==============================] - 1s 104us/step - loss: 0.0418\n",
            "Epoch39\n",
            "Epoch 1/1\n",
            "7296/7296 [==============================] - 1s 107us/step - loss: 0.0417\n",
            "Epoch40\n",
            "Epoch 1/1\n",
            "7296/7296 [==============================] - 1s 104us/step - loss: 0.0415\n",
            "Epoch41\n",
            "Epoch 1/1\n",
            "7296/7296 [==============================] - 1s 105us/step - loss: 0.0415\n",
            "Epoch42\n",
            "Epoch 1/1\n",
            "7296/7296 [==============================] - 1s 102us/step - loss: 0.0412\n",
            "Epoch43\n",
            "Epoch 1/1\n",
            "7296/7296 [==============================] - 1s 104us/step - loss: 0.0413\n",
            "Epoch44\n",
            "Epoch 1/1\n",
            "7296/7296 [==============================] - 1s 104us/step - loss: 0.0409\n",
            "Epoch45\n",
            "Epoch 1/1\n",
            "7296/7296 [==============================] - 1s 104us/step - loss: 0.0413\n",
            "Epoch46\n",
            "Epoch 1/1\n",
            "7296/7296 [==============================] - 1s 103us/step - loss: 0.0408\n",
            "Epoch47\n",
            "Epoch 1/1\n",
            "7296/7296 [==============================] - 1s 103us/step - loss: 0.0409\n",
            "Epoch48\n",
            "Epoch 1/1\n",
            "7296/7296 [==============================] - 1s 105us/step - loss: 0.0406\n",
            "Epoch49\n",
            "Epoch 1/1\n",
            "7296/7296 [==============================] - 1s 103us/step - loss: 0.0405\n",
            "Epoch50\n",
            "Epoch 1/1\n",
            "7296/7296 [==============================] - 1s 102us/step - loss: 0.0405\n",
            "Epoch51\n",
            "Epoch 1/1\n",
            "7296/7296 [==============================] - 1s 105us/step - loss: 0.0402\n",
            "Epoch52\n",
            "Epoch 1/1\n",
            "7296/7296 [==============================] - 1s 104us/step - loss: 0.0403\n",
            "Epoch53\n",
            "Epoch 1/1\n",
            "7296/7296 [==============================] - 1s 105us/step - loss: 0.0399\n",
            "Epoch54\n",
            "Epoch 1/1\n",
            "7296/7296 [==============================] - 1s 103us/step - loss: 0.0401\n",
            "Epoch55\n",
            "Epoch 1/1\n",
            "7296/7296 [==============================] - 1s 105us/step - loss: 0.0397\n",
            "Epoch56\n",
            "Epoch 1/1\n",
            "7296/7296 [==============================] - 1s 102us/step - loss: 0.0400\n",
            "Epoch57\n",
            "Epoch 1/1\n",
            "7296/7296 [==============================] - 1s 102us/step - loss: 0.0395\n",
            "Epoch58\n",
            "Epoch 1/1\n",
            "7296/7296 [==============================] - 1s 104us/step - loss: 0.0400\n",
            "Epoch59\n",
            "Epoch 1/1\n",
            "7296/7296 [==============================] - 1s 105us/step - loss: 0.0394\n",
            "Epoch60\n",
            "Epoch 1/1\n",
            "7296/7296 [==============================] - 1s 103us/step - loss: 0.0398\n",
            "Epoch61\n",
            "Epoch 1/1\n",
            "7296/7296 [==============================] - 1s 102us/step - loss: 0.0392\n",
            "Epoch62\n",
            "Epoch 1/1\n",
            "7296/7296 [==============================] - 1s 108us/step - loss: 0.0394\n",
            "Epoch63\n",
            "Epoch 1/1\n",
            "7296/7296 [==============================] - 1s 103us/step - loss: 0.0390\n",
            "Epoch64\n",
            "Epoch 1/1\n",
            "7296/7296 [==============================] - 1s 104us/step - loss: 0.0392\n",
            "Epoch65\n",
            "Epoch 1/1\n",
            "7296/7296 [==============================] - 1s 102us/step - loss: 0.0388\n",
            "Epoch66\n",
            "Epoch 1/1\n",
            "7296/7296 [==============================] - 1s 105us/step - loss: 0.0389\n",
            "Epoch67\n",
            "Epoch 1/1\n",
            "7296/7296 [==============================] - 1s 103us/step - loss: 0.0386\n",
            "Epoch68\n",
            "Epoch 1/1\n",
            "7296/7296 [==============================] - 1s 102us/step - loss: 0.0388\n",
            "Epoch69\n",
            "Epoch 1/1\n",
            "7296/7296 [==============================] - 1s 101us/step - loss: 0.0385\n",
            "Epoch70\n",
            "Epoch 1/1\n",
            "7296/7296 [==============================] - 1s 103us/step - loss: 0.0386\n",
            "Epoch71\n",
            "Epoch 1/1\n",
            "7296/7296 [==============================] - 1s 105us/step - loss: 0.0382\n",
            "Epoch72\n",
            "Epoch 1/1\n",
            "7296/7296 [==============================] - 1s 105us/step - loss: 0.0386\n",
            "Epoch73\n",
            "Epoch 1/1\n",
            "7296/7296 [==============================] - 1s 102us/step - loss: 0.0380\n",
            "Epoch74\n",
            "Epoch 1/1\n",
            "7296/7296 [==============================] - 1s 103us/step - loss: 0.0386\n",
            "Epoch75\n",
            "Epoch 1/1\n",
            "7296/7296 [==============================] - 1s 102us/step - loss: 0.0379\n",
            "Epoch76\n",
            "Epoch 1/1\n",
            "7296/7296 [==============================] - 1s 103us/step - loss: 0.0385\n",
            "Epoch77\n",
            "Epoch 1/1\n",
            "7296/7296 [==============================] - 1s 102us/step - loss: 0.0379\n",
            "Epoch78\n",
            "Epoch 1/1\n",
            "7296/7296 [==============================] - 1s 102us/step - loss: 0.0381\n",
            "Epoch79\n",
            "Epoch 1/1\n",
            "7296/7296 [==============================] - 1s 102us/step - loss: 0.0377\n",
            "Epoch80\n",
            "Epoch 1/1\n",
            "7296/7296 [==============================] - 1s 105us/step - loss: 0.0378\n",
            "Epoch81\n",
            "Epoch 1/1\n",
            "7296/7296 [==============================] - 1s 100us/step - loss: 0.0375\n",
            "Epoch82\n",
            "Epoch 1/1\n",
            "7296/7296 [==============================] - 1s 100us/step - loss: 0.0377\n",
            "Epoch83\n",
            "Epoch 1/1\n",
            "7296/7296 [==============================] - 1s 104us/step - loss: 0.0374\n",
            "Epoch84\n",
            "Epoch 1/1\n",
            "7296/7296 [==============================] - 1s 104us/step - loss: 0.0376\n",
            "Epoch85\n",
            "Epoch 1/1\n",
            "7296/7296 [==============================] - 1s 102us/step - loss: 0.0373\n",
            "Epoch86\n",
            "Epoch 1/1\n",
            "7296/7296 [==============================] - 1s 103us/step - loss: 0.0376\n",
            "Epoch87\n",
            "Epoch 1/1\n",
            "7296/7296 [==============================] - 1s 102us/step - loss: 0.0372\n",
            "Epoch88\n",
            "Epoch 1/1\n",
            "7296/7296 [==============================] - 1s 104us/step - loss: 0.0375\n",
            "Epoch89\n",
            "Epoch 1/1\n",
            "7296/7296 [==============================] - 1s 103us/step - loss: 0.0372\n",
            "Epoch90\n",
            "Epoch 1/1\n",
            "7296/7296 [==============================] - 1s 104us/step - loss: 0.0372\n",
            "Epoch91\n",
            "Epoch 1/1\n",
            "7296/7296 [==============================] - 1s 104us/step - loss: 0.0373\n",
            "Epoch92\n",
            "Epoch 1/1\n",
            "7296/7296 [==============================] - 1s 104us/step - loss: 0.0370\n",
            "Epoch93\n",
            "Epoch 1/1\n",
            "7296/7296 [==============================] - 1s 105us/step - loss: 0.0373\n",
            "Epoch94\n",
            "Epoch 1/1\n",
            "7296/7296 [==============================] - 1s 103us/step - loss: 0.0368\n",
            "Epoch95\n",
            "Epoch 1/1\n",
            "7296/7296 [==============================] - 1s 104us/step - loss: 0.0371\n",
            "Epoch96\n",
            "Epoch 1/1\n",
            "7296/7296 [==============================] - 1s 103us/step - loss: 0.0366\n",
            "Epoch97\n",
            "Epoch 1/1\n",
            "7296/7296 [==============================] - 1s 104us/step - loss: 0.0371\n",
            "Epoch98\n",
            "Epoch 1/1\n",
            "7296/7296 [==============================] - 1s 102us/step - loss: 0.0363\n",
            "Epoch99\n",
            "Epoch 1/1\n",
            "7296/7296 [==============================] - 1s 105us/step - loss: 0.0372\n"
          ],
          "name": "stdout"
        }
      ]
    },
    {
      "cell_type": "code",
      "metadata": {
        "id": "yqsuCoRVqKIf",
        "colab_type": "code",
        "colab": {}
      },
      "source": [
        "import h5py\n",
        "modelim.save(filepath = \"modelim_30win.h5\")"
      ],
      "execution_count": 0,
      "outputs": []
    },
    {
      "cell_type": "code",
      "metadata": {
        "id": "roY__q3535Is",
        "colab_type": "code",
        "colab": {
          "base_uri": "https://localhost:8080/",
          "height": 34
        },
        "outputId": "87878ba4-3868-420d-aed4-ab28e53b7885"
      },
      "source": [
        "!ls"
      ],
      "execution_count": 20,
      "outputs": [
        {
          "output_type": "stream",
          "text": [
            "DCOILBRENTEU.csv  modelim_30win.h5  sample_data\n"
          ],
          "name": "stdout"
        }
      ]
    },
    {
      "cell_type": "code",
      "metadata": {
        "id": "eSCVNMCz36Bh",
        "colab_type": "code",
        "colab": {}
      },
      "source": [
        "\n",
        "def get_test_length(dataset, batch_size):\n",
        "    \n",
        "    test_length_values = []\n",
        "    for x in range(len(dataset) - 200, len(dataset) - timesteps*2): \n",
        "        modulo=(x-upper_train)%batch_size\n",
        "        if (modulo == 0):\n",
        "            test_length_values.append(x)\n",
        "            #print(x)\n",
        "    return (max(test_length_values))\n",
        "\n"
      ],
      "execution_count": 0,
      "outputs": []
    },
    {
      "cell_type": "code",
      "metadata": {
        "id": "e_GLI0rv4GiG",
        "colab_type": "code",
        "colab": {
          "base_uri": "https://localhost:8080/",
          "height": 34
        },
        "outputId": "5f7080fc-99a5-4058-8a74-1e504bafe08c"
      },
      "source": [
        "test_length = get_test_length(df_data_1,64)\n",
        "print(test_length)"
      ],
      "execution_count": 24,
      "outputs": [
        {
          "output_type": "stream",
          "text": [
            "8060\n"
          ],
          "name": "stdout"
        }
      ]
    },
    {
      "cell_type": "code",
      "metadata": {
        "id": "1bOzVwav4luu",
        "colab_type": "code",
        "colab": {
          "base_uri": "https://localhost:8080/",
          "height": 34
        },
        "outputId": "0543e509-552e-4c06-9ad2-8d7b4a191ce0"
      },
      "source": [
        "upper_test = test_length + timesteps * 2\n",
        "testset_length = test_length - upper_train\n",
        "print(testset_length)"
      ],
      "execution_count": 26,
      "outputs": [
        {
          "output_type": "stream",
          "text": [
            "704\n"
          ],
          "name": "stdout"
        }
      ]
    },
    {
      "cell_type": "code",
      "metadata": {
        "id": "ytAgHs4p49Io",
        "colab_type": "code",
        "colab": {}
      },
      "source": [
        "df_data_1_test = df_data_1[upper_train:upper_test]\n",
        "test_set = df_data_1_test.iloc[:,1:2].values\n",
        "\n",
        "scaled_test = sc.fit_transform(np.float64(test_set))\n",
        "\n",
        "X_test = []\n",
        "\n",
        "for i in range(timesteps, testset_length + timesteps):\n",
        "  X_test.append(scaled_test[i-timesteps : i , 0])\n",
        "X_test = np.array(X_test)\n",
        "\n",
        "X_test = np.reshape(X_test, (X_test.shape[0],X_test.shape[1],1))\n"
      ],
      "execution_count": 0,
      "outputs": []
    },
    {
      "cell_type": "code",
      "metadata": {
        "id": "SRk1759P64G0",
        "colab_type": "code",
        "colab": {
          "base_uri": "https://localhost:8080/",
          "height": 34
        },
        "outputId": "7dc09739-352f-4376-ea6c-ea68a6006e3c"
      },
      "source": [
        "X_test.shape"
      ],
      "execution_count": 36,
      "outputs": [
        {
          "output_type": "execute_result",
          "data": {
            "text/plain": [
              "(704, 30, 1)"
            ]
          },
          "metadata": {
            "tags": []
          },
          "execution_count": 36
        }
      ]
    },
    {
      "cell_type": "code",
      "metadata": {
        "id": "_vGi4dcY66EY",
        "colab_type": "code",
        "colab": {
          "base_uri": "https://localhost:8080/",
          "height": 34
        },
        "outputId": "e2a970c9-3d43-467c-924c-950183502fcf"
      },
      "source": [
        "predicted_test = modelim.predict(X_test, batch_size = 64)\n",
        "#modelim.reset_states()\n",
        "\n",
        "predicted_test = np.reshape(predicted_test, (predicted_test.shape[0],predicted_test.shape[1]))\n",
        "\n",
        "print(predicted_test.shape)"
      ],
      "execution_count": 38,
      "outputs": [
        {
          "output_type": "stream",
          "text": [
            "(704, 30)\n"
          ],
          "name": "stdout"
        }
      ]
    },
    {
      "cell_type": "code",
      "metadata": {
        "id": "n1_tWhX07eBn",
        "colab_type": "code",
        "colab": {
          "base_uri": "https://localhost:8080/",
          "height": 34
        },
        "outputId": "7c477347-71f7-40c8-c58b-62c43bc0dc28"
      },
      "source": [
        "predicted_test = sc.inverse_transform(predicted_test)\n",
        "\n",
        "y_test = []\n",
        "\n",
        "for j in range(0,testset_length - timesteps):\n",
        "  y_test = np.append(y_test, predicted_test[j, timesteps - 1])\n",
        "  \n",
        "y_test = np.reshape(y_test, (y_test.shape[0],1))  \n",
        "\n",
        "print(y_test.shape)\n"
      ],
      "execution_count": 40,
      "outputs": [
        {
          "output_type": "stream",
          "text": [
            "(674, 1)\n"
          ],
          "name": "stdout"
        }
      ]
    },
    {
      "cell_type": "code",
      "metadata": {
        "id": "IEIWs87c7x2D",
        "colab_type": "code",
        "colab": {
          "base_uri": "https://localhost:8080/",
          "height": 300
        },
        "outputId": "d332c41a-1ec9-420e-fce3-49c91a537da7"
      },
      "source": [
        "plt.plot(test_set[timesteps:len(y_test)].astype(float), color = \"red\")\n",
        "plt.plot(y_test[0:len(y_test)].astype(float),color = \"blue\")\n",
        "plt.xlabel(\"time\")\n",
        "plt.ylabel(\"crude oil prices\")\n",
        "plt.legend()\n",
        "\n",
        "plt.show()"
      ],
      "execution_count": 43,
      "outputs": [
        {
          "output_type": "stream",
          "text": [
            "W0713 10:51:22.582308 140231956400000 legend.py:1289] No handles with labels found to put in legend.\n"
          ],
          "name": "stderr"
        },
        {
          "output_type": "display_data",
          "data": {
            "image/png": "[encoded data removed]",
            "text/plain": [
              "<Figure size 432x288 with 1 Axes>"
            ]
          },
          "metadata": {
            "tags": []
          }
        }
      ]
    },
    {
      "cell_type": "code",
      "metadata": {
        "id": "ok5Bf8oH8-V5",
        "colab_type": "code",
        "colab": {}
      },
      "source": [
        ""
      ],
      "execution_count": 0,
      "outputs": []
    }
  ]
}