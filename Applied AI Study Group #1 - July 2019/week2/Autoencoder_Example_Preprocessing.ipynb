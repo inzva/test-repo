{
  "nbformat": 4,
  "nbformat_minor": 0,
  "metadata": {
    "colab": {
      "name": "Autoencoder Example Preprocessing.ipynb",
      "version": "0.3.2",
      "provenance": [],
      "collapsed_sections": []
    },
    "language_info": {
      "codemirror_mode": {
        "name": "ipython",
        "version": 3
      },
      "file_extension": ".py",
      "mimetype": "text/x-python",
      "name": "python",
      "nbconvert_exporter": "python",
      "pygments_lexer": "ipython3",
      "version": "3.5.5"
    },
    "kernelspec": {
      "name": "python3",
      "display_name": "Python 3"
    },
    "accelerator": "GPU"
  },
  "cells": [
    {
      "cell_type": "code",
      "metadata": {
        "id": "tyetER06AC2y",
        "colab_type": "code",
        "colab": {}
      },
      "source": [
        "import numpy as np\n",
        "import pandas as pd\n",
        "import scipy.io as sio\n",
        "import os"
      ],
      "execution_count": 0,
      "outputs": []
    },
    {
      "cell_type": "code",
      "metadata": {
        "id": "VHlGT28SAC3B",
        "colab_type": "code",
        "outputId": "aff3ff30-087f-4b25-8260-7bcc18993dbe",
        "colab": {
          "base_uri": "https://localhost:8080/",
          "height": 830
        }
      },
      "source": [
        "!wget http://csegroups.case.edu/sites/default/files/bearingdatacenter/files/Datafiles/97.mat\n",
        "!wget http://csegroups.case.edu/sites/default/files/bearingdatacenter/files/Datafiles/98.mat\n",
        "!wget http://csegroups.case.edu/sites/default/files/bearingdatacenter/files/Datafiles/99.mat\n",
        "!wget http://csegroups.case.edu/sites/default/files/bearingdatacenter/files/Datafiles/100.mat"
      ],
      "execution_count": 0,
      "outputs": [
        {
          "output_type": "stream",
          "text": [
            "--2019-07-13 02:07:13--  http://csegroups.case.edu/sites/default/files/bearingdatacenter/files/Datafiles/97.mat\n",
            "Resolving csegroups.case.edu (csegroups.case.edu)... 129.22.25.84\n",
            "Connecting to csegroups.case.edu (csegroups.case.edu)|129.22.25.84|:80... connected.\n",
            "HTTP request sent, awaiting response... 200 OK\n",
            "Length: 3903344 (3.7M)\n",
            "Saving to: ‘97.mat’\n",
            "\n",
            "\r97.mat                0%[                    ]       0  --.-KB/s               \r97.mat               23%[===>                ] 908.86K  4.44MB/s               \r97.mat              100%[===================>]   3.72M  11.4MB/s    in 0.3s    \n",
            "\n",
            "2019-07-13 02:07:14 (11.4 MB/s) - ‘97.mat’ saved [3903344/3903344]\n",
            "\n",
            "--2019-07-13 02:07:15--  http://csegroups.case.edu/sites/default/files/bearingdatacenter/files/Datafiles/98.mat\n",
            "Resolving csegroups.case.edu (csegroups.case.edu)... 129.22.25.84\n",
            "Connecting to csegroups.case.edu (csegroups.case.edu)|129.22.25.84|:80... connected.\n",
            "HTTP request sent, awaiting response... 200 OK\n",
            "Length: 7742720 (7.4M)\n",
            "Saving to: ‘98.mat’\n",
            "\n",
            "98.mat              100%[===================>]   7.38M  19.2MB/s    in 0.4s    \n",
            "\n",
            "2019-07-13 02:07:15 (19.2 MB/s) - ‘98.mat’ saved [7742720/7742720]\n",
            "\n",
            "--2019-07-13 02:07:16--  http://csegroups.case.edu/sites/default/files/bearingdatacenter/files/Datafiles/99.mat\n",
            "Resolving csegroups.case.edu (csegroups.case.edu)... 129.22.25.84\n",
            "Connecting to csegroups.case.edu (csegroups.case.edu)|129.22.25.84|:80... connected.\n",
            "HTTP request sent, awaiting response... 200 OK\n",
            "Length: 15503928 (15M)\n",
            "Saving to: ‘99.mat’\n",
            "\n",
            "99.mat              100%[===================>]  14.79M  13.0MB/s    in 1.1s    \n",
            "\n",
            "2019-07-13 02:07:18 (13.0 MB/s) - ‘99.mat’ saved [15503928/15503928]\n",
            "\n",
            "--2019-07-13 02:07:19--  http://csegroups.case.edu/sites/default/files/bearingdatacenter/files/Datafiles/100.mat\n",
            "Resolving csegroups.case.edu (csegroups.case.edu)... 129.22.25.84\n",
            "Connecting to csegroups.case.edu (csegroups.case.edu)|129.22.25.84|:80... connected.\n",
            "HTTP request sent, awaiting response... 200 OK\n",
            "Length: 7770624 (7.4M)\n",
            "Saving to: ‘100.mat’\n",
            "\n",
            "100.mat             100%[===================>]   7.41M  10.6MB/s    in 0.7s    \n",
            "\n",
            "2019-07-13 02:07:19 (10.6 MB/s) - ‘100.mat’ saved [7770624/7770624]\n",
            "\n"
          ],
          "name": "stdout"
        }
      ]
    },
    {
      "cell_type": "code",
      "metadata": {
        "id": "WZceMZCYAC3H",
        "colab_type": "code",
        "colab": {}
      },
      "source": [
        "!mkdir  cwr_healthy"
      ],
      "execution_count": 0,
      "outputs": []
    },
    {
      "cell_type": "code",
      "metadata": {
        "id": "RWBjip6uAC3M",
        "colab_type": "code",
        "colab": {}
      },
      "source": [
        "!mv *.mat cwr_healthy/"
      ],
      "execution_count": 0,
      "outputs": []
    },
    {
      "cell_type": "code",
      "metadata": {
        "id": "KVqGb2DIAC3T",
        "colab_type": "code",
        "colab": {}
      },
      "source": [
        "def read_folder(folder):\n",
        "    data = 'dummy'\n",
        "    skip = False\n",
        "    for file in os.listdir(folder):\n",
        "        file_id = file[:-4]\n",
        "        mat_file_dict = sio.loadmat(folder+file)\n",
        "        del data\n",
        "        for key, value in mat_file_dict.items():\n",
        "            if 'DE_time' in key or 'FE_time' in key:\n",
        "                a = np.array(mat_file_dict[key])\n",
        "                try:\n",
        "                    data\n",
        "                except NameError:\n",
        "                    data = a\n",
        "                else:\n",
        "                    if (data.shape[0] != a.shape[0]):\n",
        "                        print('skipping ' + file_id)\n",
        "                        skip = True\n",
        "                        continue\n",
        "                    data = np.hstack((data,a))\n",
        "        if skip:\n",
        "            skip=False\n",
        "            continue\n",
        "        id = np.repeat(file_id,data.shape[0])\n",
        "        id.shape = (id.shape[0],1)\n",
        "        data = np.hstack((id,data))\n",
        "        if data.shape[1] == 2:\n",
        "            zeros = np.repeat(float(0),data.shape[0])\n",
        "            zeros.shape =(data.shape[0],1)\n",
        "            data = np.hstack((data,zeros))\n",
        "        try:\n",
        "            result\n",
        "        except NameError:\n",
        "            result = data\n",
        "        else:\n",
        "            result = np.vstack((result,data))\n",
        "    return result"
      ],
      "execution_count": 0,
      "outputs": []
    },
    {
      "cell_type": "code",
      "metadata": {
        "id": "Rl17npvNAC3X",
        "colab_type": "code",
        "outputId": "d5b8fefd-c2ba-47b8-e398-85ca40a61971",
        "colab": {
          "base_uri": "https://localhost:8080/",
          "height": 54
        }
      },
      "source": [
        "result_healthy = read_folder('./cwr_healthy/')"
      ],
      "execution_count": 0,
      "outputs": [
        {
          "output_type": "stream",
          "text": [
            "skipping 99\n",
            "skipping 99\n"
          ],
          "name": "stdout"
        }
      ]
    },
    {
      "cell_type": "code",
      "metadata": {
        "id": "lHtUtMlIAC3b",
        "colab_type": "code",
        "colab": {}
      },
      "source": [
        "pdf = pd.DataFrame(result_healthy)"
      ],
      "execution_count": 0,
      "outputs": []
    },
    {
      "cell_type": "code",
      "metadata": {
        "id": "K1pXV_1EAC3h",
        "colab_type": "code",
        "colab": {}
      },
      "source": [
        "pdf.to_csv('result_healthy_pandas.csv', header=False, index=True)"
      ],
      "execution_count": 0,
      "outputs": []
    },
    {
      "cell_type": "code",
      "metadata": {
        "id": "fhBFRz_cAC3m",
        "colab_type": "code",
        "colab": {}
      },
      "source": [
        "#!for url in `curl -s csegroups.case.edu/bearingdatacenter/pages/12k-drive-end-bearing-fault-data |grep mat |grep http |awk -F'href=\"' '{print $2}' |awk -F'\">' '{print $1}'`; do wget $url; done\n",
        "#!for url in `curl -s csegroups.case.edu/bearingdatacenter/pages/48k-drive-end-bearing-fault-data |grep mat |grep http |awk -F'href=\"' '{print $2}' |awk -F'\">' '{print $1}'`; do wget $url; done\n",
        "#!for url in `curl -s csegroups.case.edu/bearingdatacenter/pages/12k-fan-end-bearing-fault-data |grep mat |grep http |awk -F'href=\"' '{print $2}' |awk -F'\">' '{print $1}'`; do wget $url; done\n",
        "#!mkdir cwr_faulty\n",
        "#!mv *.mat cwr_faulty/"
      ],
      "execution_count": 0,
      "outputs": []
    },
    {
      "cell_type": "code",
      "metadata": {
        "id": "ECRD4upzAC3q",
        "colab_type": "code",
        "outputId": "8969afcd-ee03-46be-debd-62925e5a1450",
        "colab": {
          "base_uri": "https://localhost:8080/",
          "height": 830
        }
      },
      "source": [
        "!wget http://csegroups.case.edu/sites/default/files/bearingdatacenter/files/Datafiles/105.mat\n",
        "!wget http://csegroups.case.edu/sites/default/files/bearingdatacenter/files/Datafiles/106.mat\n",
        "!wget http://csegroups.case.edu/sites/default/files/bearingdatacenter/files/Datafiles/107.mat\n",
        "!wget http://csegroups.case.edu/sites/default/files/bearingdatacenter/files/Datafiles/108.mat"
      ],
      "execution_count": 0,
      "outputs": [
        {
          "output_type": "stream",
          "text": [
            "--2019-07-13 02:07:31--  http://csegroups.case.edu/sites/default/files/bearingdatacenter/files/Datafiles/105.mat\n",
            "Resolving csegroups.case.edu (csegroups.case.edu)... 129.22.25.84\n",
            "Connecting to csegroups.case.edu (csegroups.case.edu)|129.22.25.84|:80... connected.\n",
            "HTTP request sent, awaiting response... 200 OK\n",
            "Length: 2910768 (2.8M)\n",
            "Saving to: ‘105.mat’\n",
            "\n",
            "105.mat             100%[===================>]   2.78M  2.68MB/s    in 1.0s    \n",
            "\n",
            "2019-07-13 02:07:32 (2.68 MB/s) - ‘105.mat’ saved [2910768/2910768]\n",
            "\n",
            "--2019-07-13 02:07:33--  http://csegroups.case.edu/sites/default/files/bearingdatacenter/files/Datafiles/106.mat\n",
            "Resolving csegroups.case.edu (csegroups.case.edu)... 129.22.25.84\n",
            "Connecting to csegroups.case.edu (csegroups.case.edu)|129.22.25.84|:80... connected.\n",
            "HTTP request sent, awaiting response... 200 OK\n",
            "Length: 2928192 (2.8M)\n",
            "Saving to: ‘106.mat’\n",
            "\n",
            "106.mat             100%[===================>]   2.79M  4.10MB/s    in 0.7s    \n",
            "\n",
            "2019-07-13 02:07:34 (4.10 MB/s) - ‘106.mat’ saved [2928192/2928192]\n",
            "\n",
            "--2019-07-13 02:07:35--  http://csegroups.case.edu/sites/default/files/bearingdatacenter/files/Datafiles/107.mat\n",
            "Resolving csegroups.case.edu (csegroups.case.edu)... 129.22.25.84\n",
            "Connecting to csegroups.case.edu (csegroups.case.edu)|129.22.25.84|:80... connected.\n",
            "HTTP request sent, awaiting response... 200 OK\n",
            "Length: 2931672 (2.8M)\n",
            "Saving to: ‘107.mat’\n",
            "\n",
            "107.mat             100%[===================>]   2.79M  3.81MB/s    in 0.7s    \n",
            "\n",
            "2019-07-13 02:07:36 (3.81 MB/s) - ‘107.mat’ saved [2931672/2931672]\n",
            "\n",
            "--2019-07-13 02:07:37--  http://csegroups.case.edu/sites/default/files/bearingdatacenter/files/Datafiles/108.mat\n",
            "Resolving csegroups.case.edu (csegroups.case.edu)... 129.22.25.84\n",
            "Connecting to csegroups.case.edu (csegroups.case.edu)|129.22.25.84|:80... connected.\n",
            "HTTP request sent, awaiting response... 200 OK\n",
            "Length: 2950416 (2.8M)\n",
            "Saving to: ‘108.mat’\n",
            "\n",
            "108.mat             100%[===================>]   2.81M  4.77MB/s    in 0.6s    \n",
            "\n",
            "2019-07-13 02:07:37 (4.77 MB/s) - ‘108.mat’ saved [2950416/2950416]\n",
            "\n"
          ],
          "name": "stdout"
        }
      ]
    },
    {
      "cell_type": "code",
      "metadata": {
        "id": "J8EgRtlKAC33",
        "colab_type": "code",
        "colab": {}
      },
      "source": [
        "!mkdir cwr_faulty\n",
        "!mv *.mat cwr_faulty/"
      ],
      "execution_count": 0,
      "outputs": []
    },
    {
      "cell_type": "code",
      "metadata": {
        "id": "70ZNHDbCAC39",
        "colab_type": "code",
        "outputId": "618a9a8d-509f-4e52-f28c-f4802b72a898",
        "colab": {
          "base_uri": "https://localhost:8080/",
          "height": 35
        }
      },
      "source": [
        "!ls cwr_faulty/"
      ],
      "execution_count": 0,
      "outputs": [
        {
          "output_type": "stream",
          "text": [
            "105.mat  106.mat  107.mat  108.mat\n"
          ],
          "name": "stdout"
        }
      ]
    },
    {
      "cell_type": "code",
      "metadata": {
        "id": "vVm04ImqAC4E",
        "colab_type": "code",
        "colab": {}
      },
      "source": [
        "result_faulty = read_folder('./cwr_faulty/')"
      ],
      "execution_count": 0,
      "outputs": []
    },
    {
      "cell_type": "code",
      "metadata": {
        "id": "HJcGfRK-AC4I",
        "colab_type": "code",
        "colab": {}
      },
      "source": [
        "pdf = pd.DataFrame(result_faulty)"
      ],
      "execution_count": 0,
      "outputs": []
    },
    {
      "cell_type": "code",
      "metadata": {
        "id": "uAMtly6RAC4M",
        "colab_type": "code",
        "colab": {}
      },
      "source": [
        "pdf.to_csv('result_faulty_pandas.csv', header=False, index=True)"
      ],
      "execution_count": 0,
      "outputs": []
    },
    {
      "cell_type": "code",
      "metadata": {
        "id": "TmHU9jOEASS3",
        "colab_type": "code",
        "outputId": "cdfb89c0-5395-47a6-af06-921653cd72c9",
        "colab": {
          "base_uri": "https://localhost:8080/",
          "height": 35
        }
      },
      "source": [
        "!pwd"
      ],
      "execution_count": 0,
      "outputs": [
        {
          "output_type": "stream",
          "text": [
            "/content\n"
          ],
          "name": "stdout"
        }
      ]
    },
    {
      "cell_type": "code",
      "metadata": {
        "id": "BuBB1l4rFmJL",
        "colab_type": "code",
        "colab": {}
      },
      "source": [
        ""
      ],
      "execution_count": 0,
      "outputs": []
    }
  ]
}