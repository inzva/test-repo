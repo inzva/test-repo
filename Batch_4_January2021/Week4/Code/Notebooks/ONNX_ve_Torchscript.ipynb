{
  "nbformat": 4,
  "nbformat_minor": 0,
  "metadata": {
    "colab": {
      "name": "ONNX ve Torchscript.ipynb",
      "provenance": [],
      "collapsed_sections": []
    },
    "kernelspec": {
      "name": "python3",
      "display_name": "Python 3"
    },
    "accelerator": "GPU",
    "widgets": {
      "application/vnd.jupyter.widget-state+json": {
        "a7cd84c936a84005b9d0bab569b302ca": {
          "model_module": "@jupyter-widgets/controls",
          "model_name": "HBoxModel",
          "state": {
            "_view_name": "HBoxView",
            "_dom_classes": [],
            "_model_name": "HBoxModel",
            "_view_module": "@jupyter-widgets/controls",
            "_model_module_version": "1.5.0",
            "_view_count": null,
            "_view_module_version": "1.5.0",
            "box_style": "",
            "layout": "IPY_MODEL_35283754b0584620a887b956d8138933",
            "_model_module": "@jupyter-widgets/controls",
            "children": [
              "IPY_MODEL_7badf7ee1d4d4757a91cf1bbed47e1b9",
              "IPY_MODEL_3599d63a9e9b461f8116aa3f77b67d1e"
            ]
          }
        },
        "35283754b0584620a887b956d8138933": {
          "model_module": "@jupyter-widgets/base",
          "model_name": "LayoutModel",
          "state": {
            "_view_name": "LayoutView",
            "grid_template_rows": null,
            "right": null,
            "justify_content": null,
            "_view_module": "@jupyter-widgets/base",
            "overflow": null,
            "_model_module_version": "1.2.0",
            "_view_count": null,
            "flex_flow": null,
            "width": null,
            "min_width": null,
            "border": null,
            "align_items": null,
            "bottom": null,
            "_model_module": "@jupyter-widgets/base",
            "top": null,
            "grid_column": null,
            "overflow_y": null,
            "overflow_x": null,
            "grid_auto_flow": null,
            "grid_area": null,
            "grid_template_columns": null,
            "flex": null,
            "_model_name": "LayoutModel",
            "justify_items": null,
            "grid_row": null,
            "max_height": null,
            "align_content": null,
            "visibility": null,
            "align_self": null,
            "height": null,
            "min_height": null,
            "padding": null,
            "grid_auto_rows": null,
            "grid_gap": null,
            "max_width": null,
            "order": null,
            "_view_module_version": "1.2.0",
            "grid_template_areas": null,
            "object_position": null,
            "object_fit": null,
            "grid_auto_columns": null,
            "margin": null,
            "display": null,
            "left": null
          }
        },
        "7badf7ee1d4d4757a91cf1bbed47e1b9": {
          "model_module": "@jupyter-widgets/controls",
          "model_name": "FloatProgressModel",
          "state": {
            "_view_name": "ProgressView",
            "style": "IPY_MODEL_aa365f84a48940179c42b482dd711d83",
            "_dom_classes": [],
            "description": "100%",
            "_model_name": "FloatProgressModel",
            "bar_style": "success",
            "max": 244418560,
            "_view_module": "@jupyter-widgets/controls",
            "_model_module_version": "1.5.0",
            "value": 244418560,
            "_view_count": null,
            "_view_module_version": "1.5.0",
            "orientation": "horizontal",
            "min": 0,
            "description_tooltip": null,
            "_model_module": "@jupyter-widgets/controls",
            "layout": "IPY_MODEL_eb9eca1c9dd7438eb57043795639872e"
          }
        },
        "3599d63a9e9b461f8116aa3f77b67d1e": {
          "model_module": "@jupyter-widgets/controls",
          "model_name": "HTMLModel",
          "state": {
            "_view_name": "HTMLView",
            "style": "IPY_MODEL_53b9ff6263cb49fd96b849a2715e45bb",
            "_dom_classes": [],
            "description": "",
            "_model_name": "HTMLModel",
            "placeholder": "​",
            "_view_module": "@jupyter-widgets/controls",
            "_model_module_version": "1.5.0",
            "value": " 233M/233M [06:17&lt;00:00, 648kB/s]",
            "_view_count": null,
            "_view_module_version": "1.5.0",
            "description_tooltip": null,
            "_model_module": "@jupyter-widgets/controls",
            "layout": "IPY_MODEL_37e5796c3a9847a59c6c5cd5ff56976f"
          }
        },
        "aa365f84a48940179c42b482dd711d83": {
          "model_module": "@jupyter-widgets/controls",
          "model_name": "ProgressStyleModel",
          "state": {
            "_view_name": "StyleView",
            "_model_name": "ProgressStyleModel",
            "description_width": "initial",
            "_view_module": "@jupyter-widgets/base",
            "_model_module_version": "1.5.0",
            "_view_count": null,
            "_view_module_version": "1.2.0",
            "bar_color": null,
            "_model_module": "@jupyter-widgets/controls"
          }
        },
        "eb9eca1c9dd7438eb57043795639872e": {
          "model_module": "@jupyter-widgets/base",
          "model_name": "LayoutModel",
          "state": {
            "_view_name": "LayoutView",
            "grid_template_rows": null,
            "right": null,
            "justify_content": null,
            "_view_module": "@jupyter-widgets/base",
            "overflow": null,
            "_model_module_version": "1.2.0",
            "_view_count": null,
            "flex_flow": null,
            "width": null,
            "min_width": null,
            "border": null,
            "align_items": null,
            "bottom": null,
            "_model_module": "@jupyter-widgets/base",
            "top": null,
            "grid_column": null,
            "overflow_y": null,
            "overflow_x": null,
            "grid_auto_flow": null,
            "grid_area": null,
            "grid_template_columns": null,
            "flex": null,
            "_model_name": "LayoutModel",
            "justify_items": null,
            "grid_row": null,
            "max_height": null,
            "align_content": null,
            "visibility": null,
            "align_self": null,
            "height": null,
            "min_height": null,
            "padding": null,
            "grid_auto_rows": null,
            "grid_gap": null,
            "max_width": null,
            "order": null,
            "_view_module_version": "1.2.0",
            "grid_template_areas": null,
            "object_position": null,
            "object_fit": null,
            "grid_auto_columns": null,
            "margin": null,
            "display": null,
            "left": null
          }
        },
        "53b9ff6263cb49fd96b849a2715e45bb": {
          "model_module": "@jupyter-widgets/controls",
          "model_name": "DescriptionStyleModel",
          "state": {
            "_view_name": "StyleView",
            "_model_name": "DescriptionStyleModel",
            "description_width": "",
            "_view_module": "@jupyter-widgets/base",
            "_model_module_version": "1.5.0",
            "_view_count": null,
            "_view_module_version": "1.2.0",
            "_model_module": "@jupyter-widgets/controls"
          }
        },
        "37e5796c3a9847a59c6c5cd5ff56976f": {
          "model_module": "@jupyter-widgets/base",
          "model_name": "LayoutModel",
          "state": {
            "_view_name": "LayoutView",
            "grid_template_rows": null,
            "right": null,
            "justify_content": null,
            "_view_module": "@jupyter-widgets/base",
            "overflow": null,
            "_model_module_version": "1.2.0",
            "_view_count": null,
            "flex_flow": null,
            "width": null,
            "min_width": null,
            "border": null,
            "align_items": null,
            "bottom": null,
            "_model_module": "@jupyter-widgets/base",
            "top": null,
            "grid_column": null,
            "overflow_y": null,
            "overflow_x": null,
            "grid_auto_flow": null,
            "grid_area": null,
            "grid_template_columns": null,
            "flex": null,
            "_model_name": "LayoutModel",
            "justify_items": null,
            "grid_row": null,
            "max_height": null,
            "align_content": null,
            "visibility": null,
            "align_self": null,
            "height": null,
            "min_height": null,
            "padding": null,
            "grid_auto_rows": null,
            "grid_gap": null,
            "max_width": null,
            "order": null,
            "_view_module_version": "1.2.0",
            "grid_template_areas": null,
            "object_position": null,
            "object_fit": null,
            "grid_auto_columns": null,
            "margin": null,
            "display": null,
            "left": null
          }
        },
        "04e00696f05b41d08e522b8757ad2abd": {
          "model_module": "@jupyter-widgets/controls",
          "model_name": "HBoxModel",
          "state": {
            "_view_name": "HBoxView",
            "_dom_classes": [],
            "_model_name": "HBoxModel",
            "_view_module": "@jupyter-widgets/controls",
            "_model_module_version": "1.5.0",
            "_view_count": null,
            "_view_module_version": "1.5.0",
            "box_style": "",
            "layout": "IPY_MODEL_cecdd433ce5a48a68007a082a9419046",
            "_model_module": "@jupyter-widgets/controls",
            "children": [
              "IPY_MODEL_9c5b0591c92245e7a0a1aa790b79bdbc",
              "IPY_MODEL_700682c806664caaa2c054c07f604ba1"
            ]
          }
        },
        "cecdd433ce5a48a68007a082a9419046": {
          "model_module": "@jupyter-widgets/base",
          "model_name": "LayoutModel",
          "state": {
            "_view_name": "LayoutView",
            "grid_template_rows": null,
            "right": null,
            "justify_content": null,
            "_view_module": "@jupyter-widgets/base",
            "overflow": null,
            "_model_module_version": "1.2.0",
            "_view_count": null,
            "flex_flow": null,
            "width": null,
            "min_width": null,
            "border": null,
            "align_items": null,
            "bottom": null,
            "_model_module": "@jupyter-widgets/base",
            "top": null,
            "grid_column": null,
            "overflow_y": null,
            "overflow_x": null,
            "grid_auto_flow": null,
            "grid_area": null,
            "grid_template_columns": null,
            "flex": null,
            "_model_name": "LayoutModel",
            "justify_items": null,
            "grid_row": null,
            "max_height": null,
            "align_content": null,
            "visibility": null,
            "align_self": null,
            "height": null,
            "min_height": null,
            "padding": null,
            "grid_auto_rows": null,
            "grid_gap": null,
            "max_width": null,
            "order": null,
            "_view_module_version": "1.2.0",
            "grid_template_areas": null,
            "object_position": null,
            "object_fit": null,
            "grid_auto_columns": null,
            "margin": null,
            "display": null,
            "left": null
          }
        },
        "9c5b0591c92245e7a0a1aa790b79bdbc": {
          "model_module": "@jupyter-widgets/controls",
          "model_name": "FloatProgressModel",
          "state": {
            "_view_name": "ProgressView",
            "style": "IPY_MODEL_a469c1efa8634d0fb06272e3c8d2a6b8",
            "_dom_classes": [],
            "description": "100%",
            "_model_name": "FloatProgressModel",
            "bar_style": "success",
            "max": 46827520,
            "_view_module": "@jupyter-widgets/controls",
            "_model_module_version": "1.5.0",
            "value": 46827520,
            "_view_count": null,
            "_view_module_version": "1.5.0",
            "orientation": "horizontal",
            "min": 0,
            "description_tooltip": null,
            "_model_module": "@jupyter-widgets/controls",
            "layout": "IPY_MODEL_59aac03fae7241c5ae8da8766bf778d0"
          }
        },
        "700682c806664caaa2c054c07f604ba1": {
          "model_module": "@jupyter-widgets/controls",
          "model_name": "HTMLModel",
          "state": {
            "_view_name": "HTMLView",
            "style": "IPY_MODEL_5cc350e073014d76a435cb3007146b5c",
            "_dom_classes": [],
            "description": "",
            "_model_name": "HTMLModel",
            "placeholder": "​",
            "_view_module": "@jupyter-widgets/controls",
            "_model_module_version": "1.5.0",
            "value": " 44.7M/44.7M [00:00&lt;00:00, 167MB/s]",
            "_view_count": null,
            "_view_module_version": "1.5.0",
            "description_tooltip": null,
            "_model_module": "@jupyter-widgets/controls",
            "layout": "IPY_MODEL_3b28c599605243ccb7ba409a868ccc84"
          }
        },
        "a469c1efa8634d0fb06272e3c8d2a6b8": {
          "model_module": "@jupyter-widgets/controls",
          "model_name": "ProgressStyleModel",
          "state": {
            "_view_name": "StyleView",
            "_model_name": "ProgressStyleModel",
            "description_width": "initial",
            "_view_module": "@jupyter-widgets/base",
            "_model_module_version": "1.5.0",
            "_view_count": null,
            "_view_module_version": "1.2.0",
            "bar_color": null,
            "_model_module": "@jupyter-widgets/controls"
          }
        },
        "59aac03fae7241c5ae8da8766bf778d0": {
          "model_module": "@jupyter-widgets/base",
          "model_name": "LayoutModel",
          "state": {
            "_view_name": "LayoutView",
            "grid_template_rows": null,
            "right": null,
            "justify_content": null,
            "_view_module": "@jupyter-widgets/base",
            "overflow": null,
            "_model_module_version": "1.2.0",
            "_view_count": null,
            "flex_flow": null,
            "width": null,
            "min_width": null,
            "border": null,
            "align_items": null,
            "bottom": null,
            "_model_module": "@jupyter-widgets/base",
            "top": null,
            "grid_column": null,
            "overflow_y": null,
            "overflow_x": null,
            "grid_auto_flow": null,
            "grid_area": null,
            "grid_template_columns": null,
            "flex": null,
            "_model_name": "LayoutModel",
            "justify_items": null,
            "grid_row": null,
            "max_height": null,
            "align_content": null,
            "visibility": null,
            "align_self": null,
            "height": null,
            "min_height": null,
            "padding": null,
            "grid_auto_rows": null,
            "grid_gap": null,
            "max_width": null,
            "order": null,
            "_view_module_version": "1.2.0",
            "grid_template_areas": null,
            "object_position": null,
            "object_fit": null,
            "grid_auto_columns": null,
            "margin": null,
            "display": null,
            "left": null
          }
        },
        "5cc350e073014d76a435cb3007146b5c": {
          "model_module": "@jupyter-widgets/controls",
          "model_name": "DescriptionStyleModel",
          "state": {
            "_view_name": "StyleView",
            "_model_name": "DescriptionStyleModel",
            "description_width": "",
            "_view_module": "@jupyter-widgets/base",
            "_model_module_version": "1.5.0",
            "_view_count": null,
            "_view_module_version": "1.2.0",
            "_model_module": "@jupyter-widgets/controls"
          }
        },
        "3b28c599605243ccb7ba409a868ccc84": {
          "model_module": "@jupyter-widgets/base",
          "model_name": "LayoutModel",
          "state": {
            "_view_name": "LayoutView",
            "grid_template_rows": null,
            "right": null,
            "justify_content": null,
            "_view_module": "@jupyter-widgets/base",
            "overflow": null,
            "_model_module_version": "1.2.0",
            "_view_count": null,
            "flex_flow": null,
            "width": null,
            "min_width": null,
            "border": null,
            "align_items": null,
            "bottom": null,
            "_model_module": "@jupyter-widgets/base",
            "top": null,
            "grid_column": null,
            "overflow_y": null,
            "overflow_x": null,
            "grid_auto_flow": null,
            "grid_area": null,
            "grid_template_columns": null,
            "flex": null,
            "_model_name": "LayoutModel",
            "justify_items": null,
            "grid_row": null,
            "max_height": null,
            "align_content": null,
            "visibility": null,
            "align_self": null,
            "height": null,
            "min_height": null,
            "padding": null,
            "grid_auto_rows": null,
            "grid_gap": null,
            "max_width": null,
            "order": null,
            "_view_module_version": "1.2.0",
            "grid_template_areas": null,
            "object_position": null,
            "object_fit": null,
            "grid_auto_columns": null,
            "margin": null,
            "display": null,
            "left": null
          }
        }
      }
    }
  },
  "cells": [
    {
      "cell_type": "code",
      "metadata": {
        "colab": {
          "base_uri": "https://localhost:8080/"
        },
        "id": "CS1dPijP9SY7",
        "outputId": "7ab8cc2f-860a-4d6a-88d4-a59d02d380bf"
      },
      "source": [
        "!sudo apt install graphviz\n",
        "!pip install pydot\n",
        "!pip install onnx\n",
        "!git clone https://github.com/onnx/onnx.git\n",
        "!pip install onnxruntime-gpu\n",
        "!pip install onnx_tf"
      ],
      "execution_count": null,
      "outputs": [
        {
          "output_type": "stream",
          "text": [
            "Reading package lists... Done\n",
            "Building dependency tree       \n",
            "Reading state information... Done\n",
            "graphviz is already the newest version (2.40.1-2).\n",
            "0 upgraded, 0 newly installed, 0 to remove and 16 not upgraded.\n",
            "Requirement already satisfied: pydot in /usr/local/lib/python3.6/dist-packages (1.3.0)\n",
            "Requirement already satisfied: pyparsing>=2.1.4 in /usr/local/lib/python3.6/dist-packages (from pydot) (2.4.7)\n",
            "Collecting onnx\n",
            "\u001b[?25l  Downloading https://files.pythonhosted.org/packages/2a/82/e8d0fb64df623a3b716145192ed50604f444889778b37e0e9262753d5046/onnx-1.8.0-cp36-cp36m-manylinux2010_x86_64.whl (7.7MB)\n",
            "\u001b[K     |████████████████████████████████| 7.7MB 11.4MB/s \n",
            "\u001b[?25hRequirement already satisfied: protobuf in /usr/local/lib/python3.6/dist-packages (from onnx) (3.12.4)\n",
            "Requirement already satisfied: six in /usr/local/lib/python3.6/dist-packages (from onnx) (1.15.0)\n",
            "Requirement already satisfied: numpy in /usr/local/lib/python3.6/dist-packages (from onnx) (1.19.5)\n",
            "Requirement already satisfied: typing-extensions>=3.6.2.1 in /usr/local/lib/python3.6/dist-packages (from onnx) (3.7.4.3)\n",
            "Requirement already satisfied: setuptools in /usr/local/lib/python3.6/dist-packages (from protobuf->onnx) (51.1.1)\n",
            "Installing collected packages: onnx\n",
            "Successfully installed onnx-1.8.0\n",
            "Cloning into 'onnx'...\n",
            "remote: Enumerating objects: 91, done.\u001b[K\n",
            "remote: Counting objects: 100% (91/91), done.\u001b[K\n",
            "remote: Compressing objects: 100% (89/89), done.\u001b[K\n",
            "remote: Total 25847 (delta 14), reused 19 (delta 0), pack-reused 25756\u001b[K\n",
            "Receiving objects: 100% (25847/25847), 18.99 MiB | 25.90 MiB/s, done.\n",
            "Resolving deltas: 100% (14107/14107), done.\n",
            "Collecting onnxruntime-gpu\n",
            "\u001b[?25l  Downloading https://files.pythonhosted.org/packages/a0/8e/2b547d470fec82c36805216bf6776e78a49008e1793e782150e8b940eab6/onnxruntime_gpu-1.6.0-cp36-cp36m-manylinux2014_x86_64.whl (30.9MB)\n",
            "\u001b[K     |████████████████████████████████| 30.9MB 161kB/s \n",
            "\u001b[?25hRequirement already satisfied: numpy>=1.16.6 in /usr/local/lib/python3.6/dist-packages (from onnxruntime-gpu) (1.19.5)\n",
            "Requirement already satisfied: protobuf in /usr/local/lib/python3.6/dist-packages (from onnxruntime-gpu) (3.12.4)\n",
            "Requirement already satisfied: six>=1.9 in /usr/local/lib/python3.6/dist-packages (from protobuf->onnxruntime-gpu) (1.15.0)\n",
            "Requirement already satisfied: setuptools in /usr/local/lib/python3.6/dist-packages (from protobuf->onnxruntime-gpu) (51.1.1)\n",
            "Installing collected packages: onnxruntime-gpu\n",
            "Successfully installed onnxruntime-gpu-1.6.0\n",
            "Collecting onnx_tf\n",
            "\u001b[?25l  Downloading https://files.pythonhosted.org/packages/c2/3e/199632d4264d8fd23e3ec48d8fca7a6cbc67fb3b81ed396c1180eb2679c3/onnx_tf-1.7.0-py3-none-any.whl (208kB)\n",
            "\u001b[K     |████████████████████████████████| 215kB 14.6MB/s \n",
            "\u001b[?25hRequirement already satisfied: tensorflow-addons in /usr/local/lib/python3.6/dist-packages (from onnx_tf) (0.8.3)\n",
            "Requirement already satisfied: onnx>=1.7.0 in /usr/local/lib/python3.6/dist-packages (from onnx_tf) (1.8.0)\n",
            "Requirement already satisfied: PyYAML in /usr/local/lib/python3.6/dist-packages (from onnx_tf) (3.13)\n",
            "Requirement already satisfied: typeguard in /usr/local/lib/python3.6/dist-packages (from tensorflow-addons->onnx_tf) (2.7.1)\n",
            "Requirement already satisfied: typing-extensions>=3.6.2.1 in /usr/local/lib/python3.6/dist-packages (from onnx>=1.7.0->onnx_tf) (3.7.4.3)\n",
            "Requirement already satisfied: numpy in /usr/local/lib/python3.6/dist-packages (from onnx>=1.7.0->onnx_tf) (1.19.5)\n",
            "Requirement already satisfied: protobuf in /usr/local/lib/python3.6/dist-packages (from onnx>=1.7.0->onnx_tf) (3.12.4)\n",
            "Requirement already satisfied: six in /usr/local/lib/python3.6/dist-packages (from onnx>=1.7.0->onnx_tf) (1.15.0)\n",
            "Requirement already satisfied: setuptools in /usr/local/lib/python3.6/dist-packages (from protobuf->onnx>=1.7.0->onnx_tf) (51.1.1)\n",
            "Installing collected packages: onnx-tf\n",
            "Successfully installed onnx-tf-1.7.0\n"
          ],
          "name": "stdout"
        }
      ]
    },
    {
      "cell_type": "code",
      "metadata": {
        "id": "B8EZEoc87VC8",
        "colab": {
          "base_uri": "https://localhost:8080/",
          "height": 84,
          "referenced_widgets": [
            "a7cd84c936a84005b9d0bab569b302ca",
            "35283754b0584620a887b956d8138933",
            "7badf7ee1d4d4757a91cf1bbed47e1b9",
            "3599d63a9e9b461f8116aa3f77b67d1e",
            "aa365f84a48940179c42b482dd711d83",
            "eb9eca1c9dd7438eb57043795639872e",
            "53b9ff6263cb49fd96b849a2715e45bb",
            "37e5796c3a9847a59c6c5cd5ff56976f"
          ]
        },
        "outputId": "115fc789-eac4-4182-b4e2-ff6cc5d4df8b"
      },
      "source": [
        "import torch\n",
        "import torchvision\n",
        "\n",
        "device = torch.device(\"cuda\" if torch.cuda.is_available() else \"cpu\")\n",
        "model = torchvision.models.alexnet(pretrained=True).to(device)"
      ],
      "execution_count": null,
      "outputs": [
        {
          "output_type": "stream",
          "text": [
            "Downloading: \"https://download.pytorch.org/models/alexnet-owt-4df8aa71.pth\" to /root/.cache/torch/hub/checkpoints/alexnet-owt-4df8aa71.pth\n"
          ],
          "name": "stderr"
        },
        {
          "output_type": "display_data",
          "data": {
            "application/vnd.jupyter.widget-view+json": {
              "model_id": "a7cd84c936a84005b9d0bab569b302ca",
              "version_minor": 0,
              "version_major": 2
            },
            "text/plain": [
              "HBox(children=(FloatProgress(value=0.0, max=244418560.0), HTML(value='')))"
            ]
          },
          "metadata": {
            "tags": []
          }
        },
        {
          "output_type": "stream",
          "text": [
            "\n"
          ],
          "name": "stdout"
        }
      ]
    },
    {
      "cell_type": "code",
      "metadata": {
        "id": "iWWOhV047YPL"
      },
      "source": [
        "dummy_input = torch.randn(10, 3, 224, 224).to(device)\n",
        "input_names = [ \"input_1\" ] + [f\"learned_{i}\" for i in range(16)]\n",
        "output_names = [\"output1\"]"
      ],
      "execution_count": null,
      "outputs": []
    },
    {
      "cell_type": "code",
      "metadata": {
        "colab": {
          "base_uri": "https://localhost:8080/"
        },
        "id": "HeN50Bmn7_Pq",
        "outputId": "0b53f66c-0e65-4930-f477-d45a30d9d797"
      },
      "source": [
        "torch.onnx.export(model, dummy_input, \"alexnet.onnx\", verbose=True, input_names=input_names, output_names=output_names)"
      ],
      "execution_count": null,
      "outputs": [
        {
          "output_type": "stream",
          "text": [
            "graph(%input_1 : Float(10:150528, 3:50176, 224:224, 224:1, requires_grad=0, device=cuda:0),\n",
            "      %learned_0 : Float(64:363, 3:121, 11:11, 11:1, requires_grad=1, device=cuda:0),\n",
            "      %learned_1 : Float(64:1, requires_grad=1, device=cuda:0),\n",
            "      %learned_2 : Float(192:1600, 64:25, 5:5, 5:1, requires_grad=1, device=cuda:0),\n",
            "      %learned_3 : Float(192:1, requires_grad=1, device=cuda:0),\n",
            "      %learned_4 : Float(384:1728, 192:9, 3:3, 3:1, requires_grad=1, device=cuda:0),\n",
            "      %learned_5 : Float(384:1, requires_grad=1, device=cuda:0),\n",
            "      %learned_6 : Float(256:3456, 384:9, 3:3, 3:1, requires_grad=1, device=cuda:0),\n",
            "      %learned_7 : Float(256:1, requires_grad=1, device=cuda:0),\n",
            "      %learned_8 : Float(256:2304, 256:9, 3:3, 3:1, requires_grad=1, device=cuda:0),\n",
            "      %learned_9 : Float(256:1, requires_grad=1, device=cuda:0),\n",
            "      %learned_10 : Float(4096:9216, 9216:1, requires_grad=1, device=cuda:0),\n",
            "      %learned_11 : Float(4096:1, requires_grad=1, device=cuda:0),\n",
            "      %learned_12 : Float(4096:4096, 4096:1, requires_grad=1, device=cuda:0),\n",
            "      %learned_13 : Float(4096:1, requires_grad=1, device=cuda:0),\n",
            "      %learned_14 : Float(1000:4096, 4096:1, requires_grad=1, device=cuda:0),\n",
            "      %learned_15 : Float(1000:1, requires_grad=1, device=cuda:0)):\n",
            "  %17 : Float(10:193600, 64:3025, 55:55, 55:1, requires_grad=1, device=cuda:0) = onnx::Conv[dilations=[1, 1], group=1, kernel_shape=[11, 11], pads=[2, 2, 2, 2], strides=[4, 4]](%input_1, %learned_0, %learned_1) # /usr/local/lib/python3.6/dist-packages/torch/nn/modules/conv.py:420:0\n",
            "  %18 : Float(10:193600, 64:3025, 55:55, 55:1, requires_grad=1, device=cuda:0) = onnx::Relu(%17) # /usr/local/lib/python3.6/dist-packages/torch/nn/functional.py:1134:0\n",
            "  %19 : Float(10:46656, 64:729, 27:27, 27:1, requires_grad=1, device=cuda:0) = onnx::MaxPool[kernel_shape=[3, 3], pads=[0, 0, 0, 0], strides=[2, 2]](%18) # /usr/local/lib/python3.6/dist-packages/torch/nn/functional.py:586:0\n",
            "  %20 : Float(10:139968, 192:729, 27:27, 27:1, requires_grad=1, device=cuda:0) = onnx::Conv[dilations=[1, 1], group=1, kernel_shape=[5, 5], pads=[2, 2, 2, 2], strides=[1, 1]](%19, %learned_2, %learned_3) # /usr/local/lib/python3.6/dist-packages/torch/nn/modules/conv.py:420:0\n",
            "  %21 : Float(10:139968, 192:729, 27:27, 27:1, requires_grad=1, device=cuda:0) = onnx::Relu(%20) # /usr/local/lib/python3.6/dist-packages/torch/nn/functional.py:1134:0\n",
            "  %22 : Float(10:32448, 192:169, 13:13, 13:1, requires_grad=1, device=cuda:0) = onnx::MaxPool[kernel_shape=[3, 3], pads=[0, 0, 0, 0], strides=[2, 2]](%21) # /usr/local/lib/python3.6/dist-packages/torch/nn/functional.py:586:0\n",
            "  %23 : Float(10:64896, 384:169, 13:13, 13:1, requires_grad=1, device=cuda:0) = onnx::Conv[dilations=[1, 1], group=1, kernel_shape=[3, 3], pads=[1, 1, 1, 1], strides=[1, 1]](%22, %learned_4, %learned_5) # /usr/local/lib/python3.6/dist-packages/torch/nn/modules/conv.py:420:0\n",
            "  %24 : Float(10:64896, 384:169, 13:13, 13:1, requires_grad=1, device=cuda:0) = onnx::Relu(%23) # /usr/local/lib/python3.6/dist-packages/torch/nn/functional.py:1134:0\n",
            "  %25 : Float(10:43264, 256:169, 13:13, 13:1, requires_grad=1, device=cuda:0) = onnx::Conv[dilations=[1, 1], group=1, kernel_shape=[3, 3], pads=[1, 1, 1, 1], strides=[1, 1]](%24, %learned_6, %learned_7) # /usr/local/lib/python3.6/dist-packages/torch/nn/modules/conv.py:420:0\n",
            "  %26 : Float(10:43264, 256:169, 13:13, 13:1, requires_grad=1, device=cuda:0) = onnx::Relu(%25) # /usr/local/lib/python3.6/dist-packages/torch/nn/functional.py:1134:0\n",
            "  %27 : Float(10:43264, 256:169, 13:13, 13:1, requires_grad=1, device=cuda:0) = onnx::Conv[dilations=[1, 1], group=1, kernel_shape=[3, 3], pads=[1, 1, 1, 1], strides=[1, 1]](%26, %learned_8, %learned_9) # /usr/local/lib/python3.6/dist-packages/torch/nn/modules/conv.py:420:0\n",
            "  %28 : Float(10:43264, 256:169, 13:13, 13:1, requires_grad=1, device=cuda:0) = onnx::Relu(%27) # /usr/local/lib/python3.6/dist-packages/torch/nn/functional.py:1134:0\n",
            "  %29 : Float(10:9216, 256:36, 6:6, 6:1, requires_grad=1, device=cuda:0) = onnx::MaxPool[kernel_shape=[3, 3], pads=[0, 0, 0, 0], strides=[2, 2]](%28) # /usr/local/lib/python3.6/dist-packages/torch/nn/functional.py:586:0\n",
            "  %30 : Float(10:9216, 256:36, 6:6, 6:1, requires_grad=1, device=cuda:0) = onnx::AveragePool[kernel_shape=[1, 1], strides=[1, 1]](%29) # /usr/local/lib/python3.6/dist-packages/torch/nn/functional.py:936:0\n",
            "  %31 : Float(10:9216, 9216:1, requires_grad=1, device=cuda:0) = onnx::Flatten[axis=1](%30) # /usr/local/lib/python3.6/dist-packages/torch/nn/functional.py:983:0\n",
            "  %32 : Float(10:4096, 4096:1, requires_grad=1, device=cuda:0) = onnx::Gemm[alpha=1., beta=1., transB=1](%31, %learned_10, %learned_11) # /usr/local/lib/python3.6/dist-packages/torch/nn/functional.py:1690:0\n",
            "  %33 : Float(10:4096, 4096:1, requires_grad=1, device=cuda:0) = onnx::Relu(%32) # /usr/local/lib/python3.6/dist-packages/torch/nn/functional.py:983:0\n",
            "  %34 : Float(10:4096, 4096:1, requires_grad=1, device=cuda:0) = onnx::Gemm[alpha=1., beta=1., transB=1](%33, %learned_12, %learned_13) # /usr/local/lib/python3.6/dist-packages/torch/nn/functional.py:1690:0\n",
            "  %35 : Float(10:4096, 4096:1, requires_grad=1, device=cuda:0) = onnx::Relu(%34) # /usr/local/lib/python3.6/dist-packages/torch/nn/functional.py:1134:0\n",
            "  %output1 : Float(10:1000, 1000:1, requires_grad=1, device=cuda:0) = onnx::Gemm[alpha=1., beta=1., transB=1](%35, %learned_14, %learned_15) # /usr/local/lib/python3.6/dist-packages/torch/nn/functional.py:1690:0\n",
            "  return (%output1)\n",
            "\n"
          ],
          "name": "stdout"
        }
      ]
    },
    {
      "cell_type": "code",
      "metadata": {
        "id": "RrDK9Gqk8Zip"
      },
      "source": [
        "!python onnx/onnx/tools/net_drawer.py --input alexnet.onnx --output alexnet.dot --embed_docstring"
      ],
      "execution_count": null,
      "outputs": []
    },
    {
      "cell_type": "code",
      "metadata": {
        "id": "EhwNi5V3-2T8"
      },
      "source": [
        "!dot -Tsvg alexnet.dot -o alexnet.svg"
      ],
      "execution_count": null,
      "outputs": []
    },
    {
      "cell_type": "markdown",
      "metadata": {
        "id": "-EpftgEbAAKf"
      },
      "source": [
        "https://pytorch.org/docs/stable/_modules/torchvision/models/alexnet.html#alexnet"
      ]
    },
    {
      "cell_type": "code",
      "metadata": {
        "id": "f0soB51Q_FE-"
      },
      "source": [
        "import onnx\n",
        "from onnx_tf.backend import prepare"
      ],
      "execution_count": null,
      "outputs": []
    },
    {
      "cell_type": "code",
      "metadata": {
        "id": "wo-j0LTCAyfE"
      },
      "source": [
        "model_onnx = onnx.load(\"alexnet.onnx\")"
      ],
      "execution_count": null,
      "outputs": []
    },
    {
      "cell_type": "code",
      "metadata": {
        "id": "57D-4ntuA7Py"
      },
      "source": [
        "onnx.checker.check_model(model_onnx)"
      ],
      "execution_count": null,
      "outputs": []
    },
    {
      "cell_type": "code",
      "metadata": {
        "colab": {
          "base_uri": "https://localhost:8080/"
        },
        "id": "sZ-bNdpmA3ID",
        "outputId": "00935504-ffac-4088-bb9e-819d8c808004"
      },
      "source": [
        "print(onnx.helper.printable_graph(model_onnx.graph))"
      ],
      "execution_count": null,
      "outputs": [
        {
          "output_type": "stream",
          "text": [
            "graph torch-jit-export (\n",
            "  %input_1[FLOAT, 10x3x224x224]\n",
            ") initializers (\n",
            "  %learned_0[FLOAT, 64x3x11x11]\n",
            "  %learned_1[FLOAT, 64]\n",
            "  %learned_10[FLOAT, 4096x9216]\n",
            "  %learned_11[FLOAT, 4096]\n",
            "  %learned_12[FLOAT, 4096x4096]\n",
            "  %learned_13[FLOAT, 4096]\n",
            "  %learned_14[FLOAT, 1000x4096]\n",
            "  %learned_15[FLOAT, 1000]\n",
            "  %learned_2[FLOAT, 192x64x5x5]\n",
            "  %learned_3[FLOAT, 192]\n",
            "  %learned_4[FLOAT, 384x192x3x3]\n",
            "  %learned_5[FLOAT, 384]\n",
            "  %learned_6[FLOAT, 256x384x3x3]\n",
            "  %learned_7[FLOAT, 256]\n",
            "  %learned_8[FLOAT, 256x256x3x3]\n",
            "  %learned_9[FLOAT, 256]\n",
            ") {\n",
            "  %17 = Conv[dilations = [1, 1], group = 1, kernel_shape = [11, 11], pads = [2, 2, 2, 2], strides = [4, 4]](%input_1, %learned_0, %learned_1)\n",
            "  %18 = Relu(%17)\n",
            "  %19 = MaxPool[kernel_shape = [3, 3], pads = [0, 0, 0, 0], strides = [2, 2]](%18)\n",
            "  %20 = Conv[dilations = [1, 1], group = 1, kernel_shape = [5, 5], pads = [2, 2, 2, 2], strides = [1, 1]](%19, %learned_2, %learned_3)\n",
            "  %21 = Relu(%20)\n",
            "  %22 = MaxPool[kernel_shape = [3, 3], pads = [0, 0, 0, 0], strides = [2, 2]](%21)\n",
            "  %23 = Conv[dilations = [1, 1], group = 1, kernel_shape = [3, 3], pads = [1, 1, 1, 1], strides = [1, 1]](%22, %learned_4, %learned_5)\n",
            "  %24 = Relu(%23)\n",
            "  %25 = Conv[dilations = [1, 1], group = 1, kernel_shape = [3, 3], pads = [1, 1, 1, 1], strides = [1, 1]](%24, %learned_6, %learned_7)\n",
            "  %26 = Relu(%25)\n",
            "  %27 = Conv[dilations = [1, 1], group = 1, kernel_shape = [3, 3], pads = [1, 1, 1, 1], strides = [1, 1]](%26, %learned_8, %learned_9)\n",
            "  %28 = Relu(%27)\n",
            "  %29 = MaxPool[kernel_shape = [3, 3], pads = [0, 0, 0, 0], strides = [2, 2]](%28)\n",
            "  %30 = AveragePool[kernel_shape = [1, 1], strides = [1, 1]](%29)\n",
            "  %31 = Flatten[axis = 1](%30)\n",
            "  %32 = Gemm[alpha = 1, beta = 1, transB = 1](%31, %learned_10, %learned_11)\n",
            "  %33 = Relu(%32)\n",
            "  %34 = Gemm[alpha = 1, beta = 1, transB = 1](%33, %learned_12, %learned_13)\n",
            "  %35 = Relu(%34)\n",
            "  %output1 = Gemm[alpha = 1, beta = 1, transB = 1](%35, %learned_14, %learned_15)\n",
            "  return %output1\n",
            "}\n"
          ],
          "name": "stdout"
        }
      ]
    },
    {
      "cell_type": "code",
      "metadata": {
        "id": "T7Eq3RMEKat4"
      },
      "source": [
        "tf_rep = prepare(model_onnx)"
      ],
      "execution_count": null,
      "outputs": []
    },
    {
      "cell_type": "code",
      "metadata": {
        "colab": {
          "base_uri": "https://localhost:8080/"
        },
        "id": "l71Q79zxE3f0",
        "outputId": "468814ee-4967-4f2e-9a17-2baf808ad672"
      },
      "source": [
        "export_dir = \"tf_model\"\n",
        "tf_rep.export_graph(export_dir)"
      ],
      "execution_count": null,
      "outputs": [
        {
          "output_type": "stream",
          "text": [
            "WARNING:absl:Found untraced functions such as gen_tensor_dict while saving (showing 1 of 1). These functions will not be directly callable after loading.\n",
            "WARNING:absl:Found untraced functions such as gen_tensor_dict while saving (showing 1 of 1). These functions will not be directly callable after loading.\n"
          ],
          "name": "stderr"
        },
        {
          "output_type": "stream",
          "text": [
            "INFO:tensorflow:Assets written to: tf_model/assets\n"
          ],
          "name": "stdout"
        },
        {
          "output_type": "stream",
          "text": [
            "INFO:tensorflow:Assets written to: tf_model/assets\n"
          ],
          "name": "stderr"
        }
      ]
    },
    {
      "cell_type": "code",
      "metadata": {
        "id": "m3QI7JmWE67L"
      },
      "source": [
        "import tensorflow as tf"
      ],
      "execution_count": null,
      "outputs": []
    },
    {
      "cell_type": "code",
      "metadata": {
        "id": "YUJPZGlUIkuK"
      },
      "source": [
        "imported = tf.saved_model.load(export_dir)\n",
        "f = imported.signatures[\"serving_default\"]"
      ],
      "execution_count": null,
      "outputs": []
    },
    {
      "cell_type": "code",
      "metadata": {
        "colab": {
          "base_uri": "https://localhost:8080/"
        },
        "id": "_iQ-DTiPK_N4",
        "outputId": "57cb2d43-4fe6-468b-a125-8ac163de6137"
      },
      "source": [
        "imported.signatures.keys()"
      ],
      "execution_count": null,
      "outputs": [
        {
          "output_type": "execute_result",
          "data": {
            "text/plain": [
              "KeysView(_SignatureMap({'serving_default': <ConcreteFunction signature_wrapper(*, input_1) at 0x7F9C2A0A4CC0>}))"
            ]
          },
          "metadata": {
            "tags": []
          },
          "execution_count": 15
        }
      ]
    },
    {
      "cell_type": "code",
      "metadata": {
        "id": "MvhtsfovJ_kJ"
      },
      "source": [
        "out = f(input_1=dummy_input.cpu())"
      ],
      "execution_count": null,
      "outputs": []
    },
    {
      "cell_type": "code",
      "metadata": {
        "colab": {
          "base_uri": "https://localhost:8080/"
        },
        "id": "XA2hvSWwLy1C",
        "outputId": "fd810507-8924-42c2-81aa-6c6aa418134b"
      },
      "source": [
        "out[\"output_0\"]"
      ],
      "execution_count": null,
      "outputs": [
        {
          "output_type": "execute_result",
          "data": {
            "text/plain": [
              "<tf.Tensor: shape=(10, 1000), dtype=float32, numpy=\n",
              "array([[-0.02179407, -1.2334436 , -0.9728871 , ..., -1.1794727 ,\n",
              "        -1.0076256 ,  1.1060724 ],\n",
              "       [-0.06033897, -1.1013155 , -1.2295612 , ..., -1.0795169 ,\n",
              "        -1.0598122 ,  1.0903145 ],\n",
              "       [ 0.0451268 , -1.2982653 , -1.0168775 , ..., -1.3562102 ,\n",
              "        -0.9385383 ,  0.9475912 ],\n",
              "       ...,\n",
              "       [ 0.25677   , -1.0557717 , -0.9824258 , ..., -0.9874987 ,\n",
              "        -1.051997  ,  1.3452493 ],\n",
              "       [ 0.10032231, -1.1367997 , -1.591173  , ..., -1.5932413 ,\n",
              "        -0.9429994 ,  1.2389797 ],\n",
              "       [-0.30203348, -1.7088867 , -2.2362735 , ..., -1.5673717 ,\n",
              "        -1.1156543 ,  1.1354088 ]], dtype=float32)>"
            ]
          },
          "metadata": {
            "tags": []
          },
          "execution_count": 17
        }
      ]
    },
    {
      "cell_type": "markdown",
      "metadata": {
        "id": "31JynCOcpRD0"
      },
      "source": [
        "____________"
      ]
    },
    {
      "cell_type": "code",
      "metadata": {
        "colab": {
          "base_uri": "https://localhost:8080/",
          "height": 84,
          "referenced_widgets": [
            "04e00696f05b41d08e522b8757ad2abd",
            "cecdd433ce5a48a68007a082a9419046",
            "9c5b0591c92245e7a0a1aa790b79bdbc",
            "700682c806664caaa2c054c07f604ba1",
            "a469c1efa8634d0fb06272e3c8d2a6b8",
            "59aac03fae7241c5ae8da8766bf778d0",
            "5cc350e073014d76a435cb3007146b5c",
            "3b28c599605243ccb7ba409a868ccc84"
          ]
        },
        "id": "sBEREeCApPz6",
        "outputId": "2c577d86-138e-40a4-cbd3-163209234c77"
      },
      "source": [
        "import torch\n",
        "import torchvision\n",
        "\n",
        "model = torchvision.models.resnet18(pretrained=True)\n",
        "\n",
        "example = torch.rand(1, 3, 224, 224)\n",
        "\n",
        "traced_script_module = torch.jit.trace(model, example)"
      ],
      "execution_count": null,
      "outputs": [
        {
          "output_type": "stream",
          "text": [
            "Downloading: \"https://download.pytorch.org/models/resnet18-5c106cde.pth\" to /root/.cache/torch/hub/checkpoints/resnet18-5c106cde.pth\n"
          ],
          "name": "stderr"
        },
        {
          "output_type": "display_data",
          "data": {
            "application/vnd.jupyter.widget-view+json": {
              "model_id": "04e00696f05b41d08e522b8757ad2abd",
              "version_minor": 0,
              "version_major": 2
            },
            "text/plain": [
              "HBox(children=(FloatProgress(value=0.0, max=46827520.0), HTML(value='')))"
            ]
          },
          "metadata": {
            "tags": []
          }
        },
        {
          "output_type": "stream",
          "text": [
            "\n"
          ],
          "name": "stdout"
        }
      ]
    },
    {
      "cell_type": "code",
      "metadata": {
        "id": "mxKSRugPpQhY"
      },
      "source": [
        "output = traced_script_module(torch.ones(1, 3, 224, 224))"
      ],
      "execution_count": null,
      "outputs": []
    },
    {
      "cell_type": "code",
      "metadata": {
        "colab": {
          "base_uri": "https://localhost:8080/"
        },
        "id": "_yMRELaktEat",
        "outputId": "69d6a292-ac3d-47c2-a138-c65d2aba6f62"
      },
      "source": [
        "print(output)"
      ],
      "execution_count": null,
      "outputs": [
        {
          "output_type": "stream",
          "text": [
            "tensor([[-6.4706e-01, -5.6287e-01, -4.5664e-01, -1.4785e+00, -7.0649e-01,\n",
            "         -1.0570e-01, -5.2827e-01,  4.8727e-01,  2.5138e-01, -8.6397e-01,\n",
            "         -1.0303e+00, -8.8330e-01, -3.4483e-01, -9.7994e-01, -1.1171e+00,\n",
            "         -6.4003e-01, -7.8201e-01, -1.6677e-01, -5.0852e-01, -5.5767e-01,\n",
            "         -1.5480e+00, -6.6745e-01, -1.4056e+00,  1.3023e-01, -9.0067e-01,\n",
            "         -1.1809e+00, -9.3536e-01, -1.2858e+00, -8.2091e-01, -4.4468e-01,\n",
            "         -9.3707e-01, -8.8239e-01, -6.0408e-01, -4.8926e-01, -2.9906e-01,\n",
            "         -4.2005e-01,  5.0769e-01, -7.4372e-01, -4.1432e-01,  2.8811e-02,\n",
            "         -7.5651e-01, -9.3893e-01, -1.1775e+00, -4.3256e-01, -6.5951e-01,\n",
            "         -4.1137e-01, -7.8986e-01, -4.7914e-01, -1.3821e+00, -1.1447e+00,\n",
            "         -4.6387e-01,  2.9823e-01, -4.1075e-01, -6.3856e-01, -1.4058e-01,\n",
            "         -1.2304e+00, -3.7980e-01, -1.5105e+00, -6.2983e-01, -5.1889e-01,\n",
            "          7.6164e-01,  1.8636e-01, -1.9671e-01,  1.6489e-01, -7.0234e-01,\n",
            "         -2.3402e-01, -3.2406e-01, -2.9063e-01, -7.4598e-01, -9.5616e-01,\n",
            "         -1.5080e+00,  1.8896e-01, -1.2880e+00, -2.4263e-01, -1.0905e+00,\n",
            "         -1.2239e+00,  6.4461e-02, -6.0845e-01,  4.4986e-01,  9.8117e-02,\n",
            "         -8.6722e-01, -1.5605e+00, -1.1957e-01, -8.0962e-01, -5.6159e-01,\n",
            "         -2.7916e-02,  4.7045e-02,  3.1867e-01, -1.5167e-01, -6.5704e-01,\n",
            "         -1.2663e+00, -1.1979e+00, -1.8340e+00, -3.5453e-01,  5.0674e-02,\n",
            "         -2.1055e+00, -6.2328e-01, -4.8506e-01, -1.4827e+00, -2.9992e-01,\n",
            "         -1.2741e+00, -1.2030e+00, -9.8171e-01, -3.0343e-01, -3.0246e-01,\n",
            "         -6.6625e-01, -4.8315e-01, -1.2960e+00, -1.1087e+00, -1.5337e+00,\n",
            "         -1.2466e+00, -6.2076e-01,  1.2585e+00,  2.9795e-01,  2.7724e-01,\n",
            "         -1.1242e+00, -8.0684e-01, -9.1565e-02,  5.8288e-01, -3.2912e-01,\n",
            "         -8.0072e-01, -7.6545e-04,  2.5138e-01,  9.2652e-03,  9.8009e-01,\n",
            "         -1.0478e-01,  3.9941e-01, -1.5950e+00, -1.3917e+00, -1.3236e+00,\n",
            "         -1.5090e+00, -1.5311e+00, -1.0569e+00, -1.4061e+00, -8.0128e-01,\n",
            "         -1.4831e+00, -1.1673e+00, -1.2353e+00, -1.4228e+00, -1.5205e+00,\n",
            "         -1.5828e+00, -1.8123e+00, -2.2569e+00, -1.7087e+00, -7.6877e-01,\n",
            "         -3.2929e-01, -1.0104e+00, -1.7844e+00, -1.0137e+00, -1.3516e+00,\n",
            "          4.7046e-01,  1.4738e+00, -1.0200e+00, -4.2945e-01,  1.2127e-01,\n",
            "          6.4098e-02, -3.8984e-01, -2.1891e-01,  2.1793e-01,  1.4820e-01,\n",
            "          3.4157e-01,  5.3398e-01,  2.4555e-01,  4.8771e-01,  1.8069e-01,\n",
            "         -1.9077e-01, -3.1339e-01, -5.2134e-01,  4.5321e-01, -2.8876e-01,\n",
            "         -3.0671e-01,  8.7124e-01,  3.0241e-01,  1.4255e-01,  7.6767e-02,\n",
            "         -9.0277e-01, -8.7049e-03, -1.2042e-01,  5.1522e-01,  6.6651e-01,\n",
            "          5.5699e-01, -1.0505e-01,  4.1325e-01,  1.2829e-01,  4.2831e-01,\n",
            "          6.2079e-01,  4.8939e-01,  1.6523e-01,  9.3023e-02,  5.2176e-01,\n",
            "         -5.9625e-01,  3.7026e-01,  3.7441e-01,  4.6438e-01, -7.7581e-01,\n",
            "          6.7064e-01,  1.2205e-02, -5.0563e-02,  5.7181e-02,  6.0329e-01,\n",
            "         -3.7588e-02,  1.4164e-01,  5.0774e-01,  5.2170e-01,  1.0263e-01,\n",
            "          1.0592e-01, -7.6850e-02,  3.6795e-01,  1.1341e+00,  3.2304e-01,\n",
            "         -3.3525e-01,  2.3810e-01,  2.1758e-01, -1.0989e-01, -8.2340e-03,\n",
            "          1.7204e-01, -2.6025e-01,  1.3773e-01, -4.5876e-01,  5.3102e-01,\n",
            "          2.4763e-02, -1.7782e-01, -7.1371e-02,  7.9061e-01,  3.3239e-01,\n",
            "          3.0481e-01,  7.3258e-02,  6.9329e-01, -4.6248e-01, -3.1934e-01,\n",
            "         -8.7521e-02,  3.3802e-01,  2.6209e-01, -7.3467e-02,  9.0206e-01,\n",
            "          7.4570e-01,  4.9974e-01,  3.7924e-01,  7.1702e-01, -2.3459e-01,\n",
            "          3.8457e-01, -6.5698e-02,  4.3488e-01,  2.9765e-01, -3.4900e-01,\n",
            "          3.7707e-01,  4.0126e-01, -1.3812e-01,  5.8410e-01,  1.3390e-01,\n",
            "          3.9520e-01,  5.4473e-01, -7.3187e-01,  5.1975e-01,  8.9691e-01,\n",
            "         -7.8614e-01,  3.1149e-01,  1.9388e-01, -3.1132e-02,  3.2365e-01,\n",
            "         -1.4496e-01, -6.1761e-01, -2.8727e-01,  2.0681e-01,  5.4751e-01,\n",
            "          7.2536e-01,  1.9456e-01,  4.1839e-01, -1.4249e-01, -4.9739e-01,\n",
            "         -8.8207e-01, -1.1524e+00, -7.2341e-01,  6.2822e-01, -1.1827e+00,\n",
            "         -1.1856e+00, -1.2062e+00, -9.6809e-01, -1.3328e+00, -5.6235e-01,\n",
            "         -4.4673e-01,  8.2603e-01,  6.8008e-01,  1.5979e-01,  3.6703e-01,\n",
            "          8.6140e-01, -2.4851e-01, -2.6180e-01, -7.0308e-01, -1.4983e+00,\n",
            "         -9.4491e-01, -1.1844e+00, -4.0884e-01, -9.8979e-01, -1.0733e+00,\n",
            "         -9.5774e-01, -9.4501e-01, -1.4056e+00, -5.7906e-01, -2.7819e-01,\n",
            "         -1.9763e+00, -8.1736e-01, -4.0187e-01, -4.1014e-01, -1.2104e+00,\n",
            "         -8.0759e-01,  2.4282e-01, -8.0121e-01, -1.3853e+00, -4.7384e-01,\n",
            "          3.8550e-01, -4.7727e-01, -4.6300e-01,  1.4696e-01,  7.0977e-01,\n",
            "         -6.2905e-01, -8.4201e-01, -1.1822e+00, -1.1954e+00, -6.2652e-01,\n",
            "         -1.4330e+00, -1.2336e+00, -1.4103e+00, -1.6550e+00, -1.4559e+00,\n",
            "         -1.6804e+00, -1.1277e+00,  1.3349e-02, -1.6755e-01, -6.1593e-01,\n",
            "         -2.2727e-01, -3.4040e-01,  4.1098e-02,  1.8125e-01, -6.5460e-01,\n",
            "         -9.3553e-01, -1.6493e+00,  1.6003e-01,  6.1895e-01, -1.2073e+00,\n",
            "         -5.3520e-01,  5.5129e-01, -5.9335e-01, -1.4428e+00, -8.7667e-01,\n",
            "          7.9505e-01, -8.0581e-01, -1.5238e+00, -1.0377e-01, -1.3265e+00,\n",
            "         -1.1187e+00, -2.2681e+00, -1.3442e+00, -8.3989e-01, -7.3445e-01,\n",
            "          4.4669e-01,  1.0528e+00,  4.9081e-02,  4.4581e-01,  3.5231e-01,\n",
            "         -2.3034e-01,  4.0509e-01, -2.2165e-03,  2.9410e-01, -6.5389e-01,\n",
            "         -4.5514e-01, -1.1561e+00, -3.9190e-01, -9.7581e-01, -7.2918e-01,\n",
            "         -7.2149e-01, -4.3275e-01, -6.8321e-01, -1.4349e-01, -2.5160e-01,\n",
            "         -1.1140e+00, -1.2654e+00,  4.6993e-02, -4.2572e-01, -5.5978e-01,\n",
            "          1.2448e-01, -5.5769e-01, -3.6222e-01, -6.9516e-01, -8.4918e-01,\n",
            "         -5.8522e-01, -1.2442e+00, -1.1111e+00, -1.0175e+00, -2.7635e-01,\n",
            "          5.0640e-01, -1.4480e-02, -1.5169e+00, -1.8792e+00, -2.0736e-01,\n",
            "          4.2537e-01, -1.2388e+00, -5.6695e-01,  4.1939e-01,  1.3859e-01,\n",
            "         -6.4023e-01,  7.8946e-01,  3.6967e-01, -2.0742e+00, -1.9116e+00,\n",
            "         -6.3294e-01, -1.4295e-01, -3.5091e-01, -3.4300e-01,  1.0942e+00,\n",
            "         -2.0355e-01,  3.3522e-01,  1.8976e+00,  8.8623e-01,  4.6363e-01,\n",
            "          8.1677e-01, -6.7958e-02,  2.0340e-01,  4.2004e-01,  1.0951e+00,\n",
            "          9.2141e-01,  1.3739e+00, -3.1485e-02,  1.5984e-01,  5.7818e-02,\n",
            "         -9.4526e-01,  1.1515e-01,  1.4702e+00,  1.6502e+00,  5.7093e-01,\n",
            "         -7.0294e-01,  4.5341e-02,  3.7160e-01,  5.9780e-01,  5.8321e-01,\n",
            "          1.1369e+00, -3.8866e-01, -3.9963e-01,  5.7773e-01,  4.8159e-01,\n",
            "          8.7230e-01,  5.6824e-01,  1.6649e-01, -5.0335e-01, -3.4051e-01,\n",
            "          5.7582e-02,  6.6385e-01,  1.4552e+00,  8.3914e-01, -6.8914e-01,\n",
            "         -2.0872e-01,  5.0747e-01,  7.8685e-01, -8.8873e-02, -3.0918e-01,\n",
            "          6.9660e-01,  1.6618e+00,  1.4073e+00, -9.6807e-02,  8.2114e-01,\n",
            "         -6.5702e-01,  6.0183e-01,  1.3251e+00,  2.3678e+00,  1.0330e+00,\n",
            "         -1.9385e-01, -1.1322e+00, -1.8641e-01, -1.3236e-01,  1.7287e+00,\n",
            "          1.2225e+00,  5.9813e-01,  2.2037e-01,  9.8726e-01, -2.0549e-01,\n",
            "          2.9183e-02,  5.2011e-02,  4.2924e-01,  8.5136e-01,  3.5752e-01,\n",
            "         -5.0688e-02,  2.8699e-01,  3.8252e-01, -9.6024e-01, -1.2976e+00,\n",
            "         -2.7587e-02, -2.9545e-01,  1.2242e+00,  1.7421e+00,  1.1367e+00,\n",
            "          5.1989e-01,  6.5261e-01,  7.7944e-01, -1.0869e+00,  1.4360e+00,\n",
            "         -9.6461e-01,  1.3930e-03, -4.3237e-01, -3.1013e-01,  1.5277e+00,\n",
            "         -1.6225e+00,  5.0486e-01,  1.2567e+00,  3.8974e-01,  1.0649e+00,\n",
            "          1.2580e+00,  1.0971e+00,  7.0519e-01,  5.1414e-01,  1.8750e-01,\n",
            "         -1.0393e+00, -1.0420e+00,  8.6743e-01,  3.3612e-01,  1.0693e+00,\n",
            "          1.8048e+00,  5.3047e-01,  5.9006e-03,  1.2694e+00,  6.6556e-01,\n",
            "         -6.6621e-01,  2.4946e-01,  8.4815e-01,  1.6748e+00,  2.8459e-01,\n",
            "         -5.9518e-01, -1.5272e-01, -4.4865e-01,  4.2173e-01,  1.7262e-01,\n",
            "          1.0962e+00,  3.4342e-01,  1.2865e-01, -8.9843e-01,  4.1740e-01,\n",
            "         -6.1717e-01, -4.1467e-01, -6.7593e-01,  2.6946e-01,  1.2170e+00,\n",
            "         -1.2018e+00,  1.6844e+00,  1.1151e+00,  9.7199e-01,  6.2639e-01,\n",
            "          1.0080e+00,  7.5081e-01, -2.0733e+00, -1.2739e+00,  8.3189e-02,\n",
            "         -4.1788e-01,  1.4008e-01,  7.1201e-01, -6.5270e-03, -1.5451e+00,\n",
            "         -8.5306e-01,  4.1726e-01,  4.0667e-01,  1.2327e+00,  9.9743e-01,\n",
            "         -1.1930e-01, -1.7644e-01,  9.1374e-01,  1.8433e-01, -1.1060e+00,\n",
            "         -8.3655e-01,  1.8710e-01,  1.2797e+00,  2.8231e-01, -6.9809e-01,\n",
            "          1.1373e+00, -5.2193e-03,  9.8696e-01, -8.5253e-01,  6.4108e-01,\n",
            "         -1.3117e-01, -8.9092e-01,  1.2285e+00,  3.2225e-01,  2.6490e-01,\n",
            "          2.9636e-01, -2.3008e-01,  6.4573e-01,  7.7459e-01,  1.1620e+00,\n",
            "          8.3113e-01, -4.4601e-01,  1.8038e+00,  1.1712e+00,  1.3100e+00,\n",
            "         -5.3270e-01,  6.1102e-01, -5.0048e-01,  8.9578e-01,  2.5629e-01,\n",
            "         -8.2663e-01,  1.1576e+00, -1.2344e-01, -5.8960e-01,  1.0385e+00,\n",
            "          2.3504e+00, -8.8257e-03,  9.2737e-02, -6.2452e-01,  6.4221e-01,\n",
            "          1.8684e-01,  1.4258e+00, -5.0019e-01,  6.5683e-01, -2.2652e-01,\n",
            "          9.7631e-01,  6.2761e-01, -6.2391e-01,  6.0609e-01,  3.8889e-02,\n",
            "          4.6441e-01,  1.1981e+00,  6.4826e-01,  2.1234e+00,  1.0816e+00,\n",
            "          1.0447e+00,  5.8932e-01,  3.0137e-01,  7.4373e-01,  1.7713e-01,\n",
            "         -1.2743e+00,  1.0334e+00, -4.5750e-01, -1.0633e+00,  3.4189e-01,\n",
            "          1.5273e-01,  9.6299e-01,  7.6905e-01,  1.3593e+00, -3.4631e-01,\n",
            "          3.4758e-01,  1.3426e+00,  7.3282e-01,  6.3412e-01,  1.6753e-01,\n",
            "         -1.6841e+00,  1.1864e+00,  1.0957e-01,  1.5492e+00,  9.8231e-01,\n",
            "         -9.1463e-01,  6.8632e-01,  5.0041e-01, -6.3832e-01, -1.3972e+00,\n",
            "          1.2931e+00,  1.1657e-01,  7.3756e-01,  7.6992e-01, -2.0897e-01,\n",
            "          5.9268e-01, -9.6067e-02,  6.9908e-02,  2.1028e-01,  5.3903e-01,\n",
            "         -1.2320e-01, -1.0922e+00,  3.8634e-02, -8.1939e-01,  9.4406e-01,\n",
            "         -5.4819e-02,  1.2994e+00,  5.3532e-01, -7.6840e-01, -3.6553e-01,\n",
            "          1.6701e-01, -3.0589e-01, -3.6890e-01,  6.3719e-01,  1.5048e+00,\n",
            "         -9.2039e-01,  1.5758e+00,  1.2057e+00,  9.5323e-01,  2.6047e-01,\n",
            "          5.8332e-01,  6.6832e-01, -5.4555e-01,  6.3102e-01,  9.6855e-01,\n",
            "         -1.4443e+00, -1.6541e-01, -1.1475e+00, -3.6796e-01, -8.1984e-01,\n",
            "         -6.2047e-01,  8.7408e-01,  9.6501e-01,  7.3034e-01, -9.4527e-01,\n",
            "          9.7737e-01,  1.7027e+00,  1.6364e-03, -4.1302e-01,  6.9704e-01,\n",
            "          1.9650e+00, -2.8644e-01, -2.1769e-02,  4.2126e-01,  5.6093e-01,\n",
            "         -5.0810e-01, -3.3777e-01,  2.3590e-01,  1.0326e+00,  2.9928e-01,\n",
            "          9.0999e-01,  9.7924e-01,  1.6374e-01, -3.0776e-01,  5.4348e-01,\n",
            "         -4.0947e-01,  8.0443e-01, -9.2779e-01, -2.5686e-01,  6.8836e-01,\n",
            "          3.3468e-01,  2.9448e-01,  1.5124e+00,  2.5222e-01, -6.6529e-01,\n",
            "          1.4063e+00, -5.7243e-01, -7.4125e-02,  1.4706e+00, -3.3834e-01,\n",
            "          5.5340e-02,  2.1837e+00, -6.9505e-01,  1.9352e+00, -1.4924e+00,\n",
            "          1.0096e-01, -1.2250e-01,  7.0091e-01,  1.0310e+00,  1.9602e-01,\n",
            "          1.0476e+00, -5.9536e-02,  4.6916e-01,  5.2171e-01,  7.2067e-01,\n",
            "          2.4327e-01,  4.4170e-02,  6.5732e-01,  8.3799e-01,  1.6445e+00,\n",
            "          5.1280e-01, -1.1072e-01,  4.5884e-01,  7.4875e-01,  9.1053e-01,\n",
            "         -5.2248e-01,  1.0422e+00, -2.3101e-01,  1.4501e+00, -1.0301e-01,\n",
            "          1.3545e-01,  9.2776e-01,  4.9875e-01,  8.3963e-01,  1.4105e+00,\n",
            "          9.7651e-01,  4.6875e-01,  5.1041e-01, -1.0184e-01,  1.4832e+00,\n",
            "          4.6279e-01,  4.6551e-01,  1.5096e+00,  7.1770e-01,  8.8262e-01,\n",
            "          4.2328e-01,  3.9048e-01,  7.4055e-01,  1.4787e+00, -9.1594e-01,\n",
            "         -9.2844e-01, -6.9969e-01,  9.8570e-01,  9.6745e-01,  1.6709e+00,\n",
            "          4.2521e-01,  4.7683e-01,  1.2524e+00,  1.5697e-01,  1.3174e-01,\n",
            "          6.2478e-01,  9.7438e-01,  1.6050e+00,  9.3057e-01,  3.3615e-01,\n",
            "          1.3919e-01,  9.6958e-01,  6.8591e-01, -5.5637e-01,  4.5086e-01,\n",
            "         -9.4626e-01,  2.8220e-01, -1.1610e+00, -1.3662e+00,  1.2013e+00,\n",
            "          1.2432e+00,  3.7998e-01,  3.7311e-01,  1.3650e+00,  1.4942e-01,\n",
            "         -4.2903e-01,  1.1208e+00, -2.5135e-01,  1.8534e+00, -1.0732e+00,\n",
            "         -1.8599e-01,  3.6806e-01, -1.1618e+00,  1.8493e+00,  5.0726e-01,\n",
            "         -1.7599e+00, -9.2814e-01,  4.7382e-01,  8.2343e-01,  9.2903e-01,\n",
            "         -8.8323e-01,  5.3962e-01,  9.7766e-01,  1.4781e+00, -7.7509e-01,\n",
            "          1.1047e+00,  4.2491e-01, -5.8759e-01, -9.8463e-01,  1.7027e-01,\n",
            "          5.6204e-01,  1.7516e+00,  1.6848e+00,  1.1036e+00, -4.7086e-01,\n",
            "          1.4689e+00,  4.6321e-01,  4.0726e-01,  5.0114e-01,  7.3049e-01,\n",
            "          1.6963e+00,  8.9433e-01, -3.8791e-01,  4.9198e-01,  1.0196e+00,\n",
            "          1.3142e+00,  1.3908e+00,  2.0433e+00, -5.9104e-01, -2.8834e-01,\n",
            "          8.8652e-01, -7.9564e-01, -5.6732e-02, -3.4023e-01,  9.0651e-01,\n",
            "          4.3634e-02,  1.5195e+00,  1.1124e+00, -1.6515e-01, -5.4053e-01,\n",
            "          4.3389e-01, -8.0463e-03, -4.2570e-01,  1.5050e+00, -3.7245e-01,\n",
            "          8.4819e-01, -1.3976e+00,  1.1682e+00, -1.0295e+00, -2.4507e+00,\n",
            "          4.4188e-01,  1.6015e+00, -1.3369e-01, -1.2059e-01,  1.5489e+00,\n",
            "          1.0319e+00, -1.8062e-01,  1.1108e+00,  1.4952e+00,  2.1665e-01,\n",
            "          2.3711e-01, -4.4758e-01, -1.8367e-01, -1.0095e+00,  3.5952e-01,\n",
            "         -3.1543e-01,  4.3470e-01,  7.9328e-01,  2.0107e-01, -5.8435e-01,\n",
            "         -7.0223e-01,  1.1924e+00,  6.7476e-01,  2.0019e+00,  2.0659e+00,\n",
            "         -9.6896e-01, -4.3043e-01,  1.7675e+00,  9.5598e-01,  1.0051e+00,\n",
            "          2.5675e-01, -2.5118e-01,  1.4028e+00, -9.5412e-01,  1.1786e+00,\n",
            "          1.4916e+00,  1.2112e+00,  8.7339e-01, -4.3495e-01, -1.8746e+00,\n",
            "         -4.6544e-01,  1.8282e-01,  2.8235e-01,  5.8762e-01,  8.3826e-02,\n",
            "         -1.3972e-01,  1.1472e+00, -6.3005e-01,  6.2719e-01, -3.5845e-01,\n",
            "         -9.4047e-01, -1.0037e+00, -4.8347e-01, -8.9113e-02,  1.5118e+00,\n",
            "         -1.7621e-01,  4.5662e-02,  4.5481e-01, -1.7587e+00, -7.4399e-03,\n",
            "         -5.8676e-01,  4.1311e-01,  2.7545e-01,  3.0362e-02, -5.6721e-02,\n",
            "         -1.6468e-01, -6.4237e-01, -1.6121e-01,  2.0978e-01, -5.2729e-01,\n",
            "         -6.5525e-01, -1.2463e+00,  5.2187e-01,  7.0335e-01, -2.8817e-01,\n",
            "          9.4655e-02, -5.1138e-01, -3.1266e-01,  1.2144e-01,  8.9718e-01,\n",
            "         -4.4746e-01, -2.0536e-01, -5.2732e-01, -4.9931e-02, -9.4372e-01,\n",
            "          3.7320e-01,  3.0422e-01, -3.8602e-01, -7.6637e-01, -1.1632e+00,\n",
            "         -2.1289e-01,  5.8630e-01, -5.2872e-01,  9.6368e-01,  1.0009e-01,\n",
            "         -1.4322e-01,  1.0768e+00, -4.0119e-01, -5.2538e-01, -2.0731e+00,\n",
            "          9.6016e-01, -1.6117e+00,  3.8327e-01,  1.7344e-01, -8.2938e-01,\n",
            "         -6.1135e-01,  8.5861e-02,  5.0656e-01, -5.3901e-01, -9.3618e-01,\n",
            "         -1.0978e+00, -2.2383e+00,  1.5197e+00, -2.3794e-01, -1.0329e+00,\n",
            "         -2.8437e-01, -1.2405e+00, -1.0283e+00, -2.0044e+00, -6.8200e-01,\n",
            "         -3.9459e-01,  1.9623e-01, -4.6393e-01,  1.4068e+00,  1.1507e+00]],\n",
            "       grad_fn=<AddBackward0>)\n"
          ],
          "name": "stdout"
        }
      ]
    },
    {
      "cell_type": "code",
      "metadata": {
        "id": "2Ru27VwEpUok"
      },
      "source": [
        "class MyModule(torch.nn.Module):\n",
        "    def __init__(self, N, M):\n",
        "        super().__init__()\n",
        "        self.weight = torch.nn.Parameter(torch.rand(N, M))\n",
        "\n",
        "    def forward(self, inp):\n",
        "        if inp.sum() > 0:\n",
        "            output = self.weight.mv(inp)\n",
        "        else:\n",
        "            output = self.weight + inp\n",
        "        return output"
      ],
      "execution_count": null,
      "outputs": []
    },
    {
      "cell_type": "code",
      "metadata": {
        "id": "uQFGpRhHpV51"
      },
      "source": [
        "my_module = MyModule(20, 30)\n",
        "sm = torch.jit.script(my_module)"
      ],
      "execution_count": null,
      "outputs": []
    },
    {
      "cell_type": "code",
      "metadata": {
        "id": "WqNRnBodpaKR"
      },
      "source": [
        "traced_script_module.save(\"traced.pt\")\n",
        "sm.save(\"sm.pt\")"
      ],
      "execution_count": null,
      "outputs": []
    }
  ]
}