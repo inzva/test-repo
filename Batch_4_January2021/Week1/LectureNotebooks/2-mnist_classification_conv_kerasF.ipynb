{
 "cells": [
  {
   "cell_type": "code",
   "execution_count": 1,
   "metadata": {},
   "outputs": [],
   "source": [
    "import numpy as np\n",
    "import tensorflow as tf\n",
    "from tensorflow import keras\n",
    "from tensorflow.keras import layers\n",
    "import matplotlib.pyplot as plt\n",
    "import math"
   ]
  },
  {
   "cell_type": "code",
   "execution_count": 2,
   "metadata": {},
   "outputs": [
    {
     "name": "stdout",
     "output_type": "stream",
     "text": [
      "2.3.1\n",
      "2.4.0\n"
     ]
    }
   ],
   "source": [
    "print(tf.__version__)\n",
    "print(keras.__version__)"
   ]
  },
  {
   "cell_type": "code",
   "execution_count": 3,
   "metadata": {},
   "outputs": [],
   "source": [
    "# dataset using keras api\n",
    "(x_train, y_train), (x_test, y_test) = keras.datasets.mnist.load_data()"
   ]
  },
  {
   "cell_type": "code",
   "execution_count": 4,
   "metadata": {},
   "outputs": [
    {
     "name": "stdout",
     "output_type": "stream",
     "text": [
      "(60000, 28, 28)\n",
      "(60000,)\n",
      "(10000, 28, 28)\n",
      "(10000,)\n"
     ]
    }
   ],
   "source": [
    "# check dataset\n",
    "print(x_train.shape)\n",
    "print(y_train.shape)\n",
    "\n",
    "print(x_test.shape)\n",
    "print(y_test.shape)"
   ]
  },
  {
   "cell_type": "code",
   "execution_count": 5,
   "metadata": {},
   "outputs": [
    {
     "name": "stdout",
     "output_type": "stream",
     "text": [
      "5\n"
     ]
    },
    {
     "data": {
      "image/png": "[encoded data removed]",
      "text/plain": [
       "<Figure size 432x288 with 1 Axes>"
      ]
     },
     "metadata": {
      "needs_background": "light"
     },
     "output_type": "display_data"
    }
   ],
   "source": [
    "# let's visualize first training image\n",
    "plt.imshow(x_train[0] ,cmap = 'gray')\n",
    "print(y_train[0])"
   ]
  },
  {
   "cell_type": "code",
   "execution_count": 6,
   "metadata": {},
   "outputs": [
    {
     "name": "stdout",
     "output_type": "stream",
     "text": [
      "255 0\n",
      "9 0\n",
      "255 0\n",
      "9 0\n"
     ]
    }
   ],
   "source": [
    "# some simple statistics about dataset\n",
    "print(np.amax(x_train[0]),np.amin(x_train[0]))\n",
    "\n",
    "print(np.amax(y_train),np.amin(y_train))\n",
    "\n",
    "print(np.amax(x_test[0]),np.amin(x_test[0]))\n",
    "\n",
    "print(np.amax(y_test),np.amin(y_test))"
   ]
  },
  {
   "cell_type": "markdown",
   "metadata": {},
   "source": [
    "Network"
   ]
  },
  {
   "cell_type": "code",
   "execution_count": 7,
   "metadata": {},
   "outputs": [],
   "source": [
    "# first layer for Keras functional api\n",
    "img_input = keras.Input(shape=(28, 28, 1), name=\"img\")"
   ]
  },
  {
   "cell_type": "code",
   "execution_count": 8,
   "metadata": {},
   "outputs": [
    {
     "name": "stdout",
     "output_type": "stream",
     "text": [
      "(None, 28, 28, 1)\n",
      "<dtype: 'float32'>\n"
     ]
    }
   ],
   "source": [
    "print(img_input.shape)\n",
    "print(img_input.dtype)"
   ]
  },
  {
   "cell_type": "code",
   "execution_count": 9,
   "metadata": {},
   "outputs": [],
   "source": [
    "# rest of the model using pre-defined layers from Keras api\n",
    "\n",
    "from keras.layers import Conv2D, BatchNormalization, Dropout, Input, Dense, Flatten\n",
    "\n",
    "l1 = Conv2D(filters  = 100,\n",
    "            kernel_size = (5,5),\n",
    "            strides = (1,1),\n",
    "            padding = 'same',\n",
    "            activation = 'relu',\n",
    "            use_bias = True,\n",
    "            kernel_initializer = 'glorot_uniform')(img_input)\n",
    "\n",
    "l2 = Conv2D(filters  = 25,\n",
    "            kernel_size = (5,5),\n",
    "            strides = (1,1),\n",
    "            padding = 'same',\n",
    "            activation = 'relu',\n",
    "            use_bias = True,\n",
    "            kernel_initializer = 'glorot_uniform')(l1)\n",
    "\n",
    "l2_flat = Flatten()(l2)\n",
    "\n",
    "prediction = Dense(10,activation = 'softmax')(l2_flat)"
   ]
  },
  {
   "cell_type": "code",
   "execution_count": 10,
   "metadata": {},
   "outputs": [],
   "source": [
    "from keras.models import Model\n",
    "from keras.optimizers import Adam"
   ]
  },
  {
   "cell_type": "code",
   "execution_count": 11,
   "metadata": {},
   "outputs": [],
   "source": [
    "# define model and optimizer.\n",
    "inzvaNet = Model(inputs=img_input, outputs=prediction)\n",
    "\n",
    "# our optimizer\n",
    "opt = Adam(lr = 0.001)\n",
    "\n",
    "# we compile to start the weights etc.\n",
    "# sparse categorical to automatically one-hot encode!\n",
    "# point out that in previous it was logits\n",
    "inzvaNet.compile(optimizer=opt,\n",
    "               loss='sparse_categorical_crossentropy',\n",
    "               metrics=['accuracy'])"
   ]
  },
  {
   "cell_type": "code",
   "execution_count": 12,
   "metadata": {},
   "outputs": [
    {
     "name": "stdout",
     "output_type": "stream",
     "text": [
      "Model: \"functional_1\"\n",
      "_________________________________________________________________\n",
      "Layer (type)                 Output Shape              Param #   \n",
      "=================================================================\n",
      "img (InputLayer)             [(None, 28, 28, 1)]       0         \n",
      "_________________________________________________________________\n",
      "conv2d (Conv2D)              (None, 28, 28, 100)       2600      \n",
      "_________________________________________________________________\n",
      "conv2d_1 (Conv2D)            (None, 28, 28, 25)        62525     \n",
      "_________________________________________________________________\n",
      "flatten (Flatten)            (None, 19600)             0         \n",
      "_________________________________________________________________\n",
      "dense (Dense)                (None, 10)                196010    \n",
      "=================================================================\n",
      "Total params: 261,135\n",
      "Trainable params: 261,135\n",
      "Non-trainable params: 0\n",
      "_________________________________________________________________\n"
     ]
    }
   ],
   "source": [
    "# final check of model before training\n",
    "inzvaNet.summary()"
   ]
  },
  {
   "cell_type": "code",
   "execution_count": 13,
   "metadata": {},
   "outputs": [
    {
     "name": "stdout",
     "output_type": "stream",
     "text": [
      "Epoch 1/3\n",
      "422/422 [==============================] - 112s 265ms/step - loss: 0.3531 - accuracy: 0.9225 - val_loss: 0.0982 - val_accuracy: 0.9745\n",
      "Epoch 2/3\n",
      "422/422 [==============================] - 125s 296ms/step - loss: 0.0804 - accuracy: 0.9750 - val_loss: 0.0832 - val_accuracy: 0.9758\n",
      "Epoch 3/3\n",
      "422/422 [==============================] - 120s 285ms/step - loss: 0.0552 - accuracy: 0.9820 - val_loss: 0.0672 - val_accuracy: 0.9813\n"
     ]
    }
   ],
   "source": [
    "# training\n",
    "history = inzvaNet.fit(x_train, y_train, batch_size=128, epochs=3, validation_split=0.1)"
   ]
  },
  {
   "cell_type": "code",
   "execution_count": 14,
   "metadata": {},
   "outputs": [
    {
     "name": "stdout",
     "output_type": "stream",
     "text": [
      "313/313 - 3s - loss: 0.0707 - accuracy: 0.9789\n",
      "Test loss: 0.07065042108297348\n",
      "Test accuracy: 0.9789000153541565\n"
     ]
    }
   ],
   "source": [
    "# test model on test data\n",
    "test_scores = inzvaNet.evaluate(x_test, y_test, verbose=2)\n",
    "print(\"Test loss:\", test_scores[0])\n",
    "print(\"Test accuracy:\", test_scores[1])"
   ]
  },
  {
   "cell_type": "code",
   "execution_count": null,
   "metadata": {},
   "outputs": [],
   "source": []
  }
 ],
 "metadata": {
  "kernelspec": {
   "display_name": "Python 3",
   "language": "python",
   "name": "python3"
  },
  "language_info": {
   "codemirror_mode": {
    "name": "ipython",
    "version": 3
   },
   "file_extension": ".py",
   "mimetype": "text/x-python",
   "name": "python",
   "nbconvert_exporter": "python",
   "pygments_lexer": "ipython3",
   "version": "3.8.5"
  }
 },
 "nbformat": 4,
 "nbformat_minor": 4
}
